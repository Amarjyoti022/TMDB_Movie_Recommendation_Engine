{
 "cells": [
  {
   "cell_type": "code",
   "execution_count": 1,
   "id": "a15b6288-8851-4e53-948d-e369b2fefca3",
   "metadata": {},
   "outputs": [],
   "source": [
    "import pandas as pd\n",
    "import numpy as np\n",
    "import warnings\n",
    "warnings.simplefilter('ignore')"
   ]
  },
  {
   "cell_type": "code",
   "execution_count": 2,
   "id": "104a7101-591e-46e2-a05f-ba95a966c39f",
   "metadata": {},
   "outputs": [
    {
     "data": {
      "text/html": [
       "<div>\n",
       "<style scoped>\n",
       "    .dataframe tbody tr th:only-of-type {\n",
       "        vertical-align: middle;\n",
       "    }\n",
       "\n",
       "    .dataframe tbody tr th {\n",
       "        vertical-align: top;\n",
       "    }\n",
       "\n",
       "    .dataframe thead th {\n",
       "        text-align: right;\n",
       "    }\n",
       "</style>\n",
       "<table border=\"1\" class=\"dataframe\">\n",
       "  <thead>\n",
       "    <tr style=\"text-align: right;\">\n",
       "      <th></th>\n",
       "      <th>Title</th>\n",
       "      <th>Year</th>\n",
       "      <th>Rating</th>\n",
       "      <th>Runtime (min)</th>\n",
       "      <th>Genres</th>\n",
       "      <th>Language</th>\n",
       "      <th>IMDb Code</th>\n",
       "      <th>Summary</th>\n",
       "      <th>URL</th>\n",
       "    </tr>\n",
       "  </thead>\n",
       "  <tbody>\n",
       "    <tr>\n",
       "      <th>0</th>\n",
       "      <td>Blood &amp; Money</td>\n",
       "      <td>2023</td>\n",
       "      <td>0.0</td>\n",
       "      <td>93</td>\n",
       "      <td>Drama</td>\n",
       "      <td>en</td>\n",
       "      <td>tt30957598</td>\n",
       "      <td>NaN</td>\n",
       "      <td>https://yts.mx/movies/blood-money-2023</td>\n",
       "    </tr>\n",
       "    <tr>\n",
       "      <th>1</th>\n",
       "      <td>An Oprah Winfrey Special: The Menopause Revolu...</td>\n",
       "      <td>2025</td>\n",
       "      <td>5.7</td>\n",
       "      <td>0</td>\n",
       "      <td>Action</td>\n",
       "      <td>en</td>\n",
       "      <td>tt36404383</td>\n",
       "      <td>NaN</td>\n",
       "      <td>https://yts.mx/movies/an-oprah-winfrey-special...</td>\n",
       "    </tr>\n",
       "    <tr>\n",
       "      <th>2</th>\n",
       "      <td>Brothers from Malta</td>\n",
       "      <td>2022</td>\n",
       "      <td>6.0</td>\n",
       "      <td>0</td>\n",
       "      <td>Comedy</td>\n",
       "      <td>en</td>\n",
       "      <td>tt10805280</td>\n",
       "      <td>NaN</td>\n",
       "      <td>https://yts.mx/movies/brothers-from-malta-2022</td>\n",
       "    </tr>\n",
       "    <tr>\n",
       "      <th>3</th>\n",
       "      <td>Frozen Hot Boys</td>\n",
       "      <td>2025</td>\n",
       "      <td>0.0</td>\n",
       "      <td>117</td>\n",
       "      <td>Comedy, Drama, Sport</td>\n",
       "      <td>th</td>\n",
       "      <td>tt35669015</td>\n",
       "      <td>NaN</td>\n",
       "      <td>https://yts.mx/movies/frozen-hot-boys-2025</td>\n",
       "    </tr>\n",
       "    <tr>\n",
       "      <th>4</th>\n",
       "      <td>G20</td>\n",
       "      <td>2025</td>\n",
       "      <td>0.0</td>\n",
       "      <td>108</td>\n",
       "      <td>Action, Thriller</td>\n",
       "      <td>en</td>\n",
       "      <td>tt23476986</td>\n",
       "      <td>NaN</td>\n",
       "      <td>https://yts.mx/movies/g20-2025</td>\n",
       "    </tr>\n",
       "  </tbody>\n",
       "</table>\n",
       "</div>"
      ],
      "text/plain": [
       "                                               Title  Year  Rating  \\\n",
       "0                                      Blood & Money  2023     0.0   \n",
       "1  An Oprah Winfrey Special: The Menopause Revolu...  2025     5.7   \n",
       "2                                Brothers from Malta  2022     6.0   \n",
       "3                                    Frozen Hot Boys  2025     0.0   \n",
       "4                                                G20  2025     0.0   \n",
       "\n",
       "   Runtime (min)                Genres Language   IMDb Code  Summary  \\\n",
       "0             93                 Drama       en  tt30957598      NaN   \n",
       "1              0                Action       en  tt36404383      NaN   \n",
       "2              0                Comedy       en  tt10805280      NaN   \n",
       "3            117  Comedy, Drama, Sport       th  tt35669015      NaN   \n",
       "4            108      Action, Thriller       en  tt23476986      NaN   \n",
       "\n",
       "                                                 URL  \n",
       "0             https://yts.mx/movies/blood-money-2023  \n",
       "1  https://yts.mx/movies/an-oprah-winfrey-special...  \n",
       "2     https://yts.mx/movies/brothers-from-malta-2022  \n",
       "3         https://yts.mx/movies/frozen-hot-boys-2025  \n",
       "4                     https://yts.mx/movies/g20-2025  "
      ]
     },
     "execution_count": 2,
     "metadata": {},
     "output_type": "execute_result"
    }
   ],
   "source": [
    "df = pd.read_csv('Movies_Metadata.csv')\n",
    "df.head()"
   ]
  },
  {
   "cell_type": "code",
   "execution_count": 3,
   "id": "84340aef-be99-469a-8a12-1ea3c5cc6016",
   "metadata": {},
   "outputs": [
    {
     "data": {
      "text/plain": [
       "(4900, 9)"
      ]
     },
     "execution_count": 3,
     "metadata": {},
     "output_type": "execute_result"
    }
   ],
   "source": [
    "df.shape"
   ]
  },
  {
   "cell_type": "code",
   "execution_count": 4,
   "id": "fdb183ad-1dec-42c9-ab5e-cd65e9926f0c",
   "metadata": {},
   "outputs": [
    {
     "name": "stdout",
     "output_type": "stream",
     "text": [
      "<class 'pandas.core.frame.DataFrame'>\n",
      "RangeIndex: 4900 entries, 0 to 4899\n",
      "Data columns (total 9 columns):\n",
      " #   Column         Non-Null Count  Dtype  \n",
      "---  ------         --------------  -----  \n",
      " 0   Title          4900 non-null   object \n",
      " 1   Year           4900 non-null   int64  \n",
      " 2   Rating         4900 non-null   float64\n",
      " 3   Runtime (min)  4900 non-null   int64  \n",
      " 4   Genres         4892 non-null   object \n",
      " 5   Language       4887 non-null   object \n",
      " 6   IMDb Code      4900 non-null   object \n",
      " 7   Summary        0 non-null      float64\n",
      " 8   URL            4900 non-null   object \n",
      "dtypes: float64(2), int64(2), object(5)\n",
      "memory usage: 344.7+ KB\n"
     ]
    }
   ],
   "source": [
    "df.info()"
   ]
  },
  {
   "cell_type": "code",
   "execution_count": 5,
   "id": "6899e6a8-a096-4637-9fec-d7d07e8f8cd9",
   "metadata": {},
   "outputs": [
    {
     "data": {
      "text/plain": [
       "['Title',\n",
       " 'Year',\n",
       " 'Rating',\n",
       " 'Runtime (min)',\n",
       " 'Genres',\n",
       " 'Language',\n",
       " 'IMDb Code',\n",
       " 'Summary',\n",
       " 'URL']"
      ]
     },
     "execution_count": 5,
     "metadata": {},
     "output_type": "execute_result"
    }
   ],
   "source": [
    "df.columns.tolist()"
   ]
  },
  {
   "cell_type": "code",
   "execution_count": 6,
   "id": "666c2a58-a616-4d17-8182-296330b5a79b",
   "metadata": {},
   "outputs": [
    {
     "data": {
      "text/plain": [
       "Title               0\n",
       "Year                0\n",
       "Rating              0\n",
       "Runtime (min)       0\n",
       "Genres              8\n",
       "Language           13\n",
       "IMDb Code           0\n",
       "Summary          4900\n",
       "URL                 0\n",
       "dtype: int64"
      ]
     },
     "execution_count": 6,
     "metadata": {},
     "output_type": "execute_result"
    }
   ],
   "source": [
    "df.isnull().sum()"
   ]
  },
  {
   "cell_type": "code",
   "execution_count": 7,
   "id": "69ee33ae-1b94-4db2-b06a-2152408b2ae1",
   "metadata": {},
   "outputs": [
    {
     "data": {
      "text/plain": [
       "array(['Blood & Money',\n",
       "       'An Oprah Winfrey Special: The Menopause Revolution',\n",
       "       'Brothers from Malta', ..., 'Mr. Right',\n",
       "       \"Gabriel's Redemption: Part Three\",\n",
       "       'Puffin Rock and the New Friends'], dtype=object)"
      ]
     },
     "execution_count": 7,
     "metadata": {},
     "output_type": "execute_result"
    }
   ],
   "source": [
    "df['Title'].unique()"
   ]
  },
  {
   "cell_type": "code",
   "execution_count": 8,
   "id": "d13eac4f-cefd-4097-8cfa-3568c3580521",
   "metadata": {},
   "outputs": [
    {
     "data": {
      "text/plain": [
       "4830"
      ]
     },
     "execution_count": 8,
     "metadata": {},
     "output_type": "execute_result"
    }
   ],
   "source": [
    "df['Title'].nunique()"
   ]
  },
  {
   "cell_type": "code",
   "execution_count": 9,
   "id": "68bbf86c-857a-4d95-a572-e4145d49fdc3",
   "metadata": {},
   "outputs": [
    {
     "data": {
      "text/plain": [
       "array([2023, 2025, 2022, 1934, 1933, 2024, 2019, 2015, 2008, 1941, 2011,\n",
       "       2021, 2013, 1977, 2020, 2003, 2012, 2018, 2016, 1994, 2017, 2009,\n",
       "       2014, 2005, 2006, 1992, 1990, 1955, 2007, 1981, 2001, 1939, 1991,\n",
       "       1996, 1954, 2004, 1949, 1999, 1979, 1974, 1995, 1985, 1963, 2010,\n",
       "       1989, 1993, 1961, 1984, 1968, 1944, 1921, 1982, 1997, 1928, 2000,\n",
       "       1998, 1927, 1975, 1978, 1969, 2002, 1964, 1960, 1971, 1967, 1938,\n",
       "       1965, 1972, 1988, 1959, 1953, 1966, 1970, 1980, 1952, 1986, 1973,\n",
       "       1957, 1922, 1987, 1983, 1932, 1935, 1956, 1912, 1958, 1940, 1950,\n",
       "       1948, 1946, 1976, 1945, 1926, 1930, 1947, 1929, 1920, 1951, 1931,\n",
       "       1936, 1937, 1943, 1942, 1925, 1962, 1915], dtype=int64)"
      ]
     },
     "execution_count": 9,
     "metadata": {},
     "output_type": "execute_result"
    }
   ],
   "source": [
    "df['Year'].unique()"
   ]
  },
  {
   "cell_type": "code",
   "execution_count": 10,
   "id": "9f8dfb50-e49b-4379-9135-9d16814ff3e0",
   "metadata": {},
   "outputs": [
    {
     "data": {
      "text/plain": [
       "array([0. , 5.7, 6. , 7.4, 6.4, 6.9, 7.7, 7.5, 8.2, 8.1, 7.3, 5.4, 3.5,\n",
       "       7.8, 6.3, 5.1, 8. , 3.4, 4.8, 7.6, 7.2, 7.1, 6.5, 6.7, 7. , 1.1,\n",
       "       6.1, 4.2, 5. , 4.6, 2.1, 4.3, 5.9, 4.5, 5.3, 6.2, 3.7, 6.8, 5.5,\n",
       "       6.6, 8.5, 3.8, 5.8, 4.7, 3.6, 5.2, 7.9, 5.6, 2.4, 2.6, 3.3, 4. ,\n",
       "       4.4, 4.9, 2.7, 3. , 3.2, 2. , 9. , 1.9, 8.3, 2.5, 4.1, 2.2, 3.9,\n",
       "       8.8, 2.8, 8.6, 9.2, 2.9, 8.4, 8.7, 8.9, 2.3, 3.1, 9.1, 1.3, 9.3,\n",
       "       9.6, 1.8, 1.6, 9.4, 1.7, 1.4])"
      ]
     },
     "execution_count": 10,
     "metadata": {},
     "output_type": "execute_result"
    }
   ],
   "source": [
    "df['Rating'].unique()"
   ]
  },
  {
   "cell_type": "code",
   "execution_count": 11,
   "id": "d5aa39ec-1cc4-401b-b2d0-968ebcae6263",
   "metadata": {},
   "outputs": [
    {
     "data": {
      "text/plain": [
       "Year\n",
       "2023    19\n",
       "2024    19\n",
       "2025    16\n",
       "2019     5\n",
       "2021     4\n",
       "2020     4\n",
       "2022     4\n",
       "2017     2\n",
       "2007     1\n",
       "2018     1\n",
       "2015     1\n",
       "1980     1\n",
       "2011     1\n",
       "2009     1\n",
       "1993     1\n",
       "Name: count, dtype: int64"
      ]
     },
     "execution_count": 11,
     "metadata": {},
     "output_type": "execute_result"
    }
   ],
   "source": [
    "df[df['Rating'] == 0]['Year'].value_counts()"
   ]
  },
  {
   "cell_type": "code",
   "execution_count": 12,
   "id": "8a35c37a-58dd-47dd-b4fe-cd4e759ff6a8",
   "metadata": {},
   "outputs": [
    {
     "data": {
      "text/plain": [
       "array([ 93,   0, 117, 108,  91, 118,  86, 131,  90,  84, 133, 148,  88,\n",
       "        61,  58,  87,  62,  24,  63,  73,  83, 145, 105,  75,  76, 132,\n",
       "        45, 103,  44,  67,  60, 100, 107,  77,  85,  96,  57, 136, 114,\n",
       "        89, 123, 102,  97, 110, 116, 120, 101,  41, 126, 104, 111, 113,\n",
       "       129, 109,  99,  94, 106,  39, 137,  80,  70, 150, 135, 124,  72,\n",
       "        78, 122, 121, 119,  54,  65, 115,  81,  98,  22,  92,  71,   7,\n",
       "        79,  17,  42,  74,  95,  69, 151,  46,  66, 142,  82, 156, 125,\n",
       "        59, 130, 134, 158, 163, 191, 180, 160, 157,  56,  53,  11, 112,\n",
       "       168,  49, 155, 141,  30,  40, 147,  13, 128, 146, 174, 169, 140,\n",
       "        28, 138,  68,  55, 240,  29, 439,  34, 127,  38,  47, 223, 152,\n",
       "       154,  12,  52, 139,  50,  18, 176,  48, 324,  23,  26,  51,  64,\n",
       "       198, 192, 216, 167, 143, 166, 224, 360, 165, 159,   5, 201, 144,\n",
       "        20, 170,  25, 149, 164, 268, 282, 225, 153, 173, 306,   6, 219,\n",
       "       193, 220,  36, 178, 177, 295, 185, 188, 183,  15,   4, 161,  31,\n",
       "       190,  32,   8,  43, 195, 172], dtype=int64)"
      ]
     },
     "execution_count": 12,
     "metadata": {},
     "output_type": "execute_result"
    }
   ],
   "source": [
    "df['Runtime (min)'].unique()"
   ]
  },
  {
   "cell_type": "code",
   "execution_count": 13,
   "id": "51c34e84-2fde-40cb-a7fd-70e6b3210170",
   "metadata": {},
   "outputs": [
    {
     "data": {
      "text/plain": [
       "array(['Drama', 'Action', 'Comedy', 'Comedy, Drama, Sport',\n",
       "       'Action, Thriller', 'Drama, Romance', 'Drama, Fantasy, Romance',\n",
       "       'Drama, Thriller', 'Documentary', 'Drama, Horror, Mystery',\n",
       "       'Comedy, Crime, Mystery, Romance', 'Music', 'Family',\n",
       "       'Crime, Drama, Horror, Mystery',\n",
       "       'Adventure, Animation, Comedy, Family, Fantasy',\n",
       "       'Adventure, Animation, Family', 'Animation', 'Comedy, Drama',\n",
       "       'Biography, Drama', 'Documentary, Music',\n",
       "       'Adventure, Animation, Drama, Family', 'Crime', 'Romance',\n",
       "       'Comedy, Horror, Sci-Fi', 'Action, Fantasy, Horror', 'Horror',\n",
       "       'Drama, Horror, Mystery, Thriller', 'Animation, Family', 'Western',\n",
       "       'Comedy, Horror', 'Sci-Fi', 'Thriller', 'Action, Comedy, Thriller',\n",
       "       'Drama, Fantasy, Thriller',\n",
       "       'Adventure, Animation, Comedy, Family, Musical, Western',\n",
       "       'Action, Drama', 'Drama, Sci-Fi', 'Biography, Documentary, Music',\n",
       "       'Documentary, History', 'Comedy, Crime, Drama',\n",
       "       'Comedy, Drama, Romance', 'Action, Crime, Drama, Thriller',\n",
       "       'Action, Adventure, Fantasy', 'Horror, Thriller', 'Comedy, Crime',\n",
       "       'Documentary, Family', 'Adventure, Comedy, Drama, Fantasy',\n",
       "       'Talk-Show', 'Adventure, Drama, Thriller',\n",
       "       'Action, Adventure, Animation, Comedy, Family, Fantasy',\n",
       "       'Action, Crime, Drama, Sport', 'Drama, History, Romance, Thriller',\n",
       "       'Action, Adventure, Comedy, Fantasy, Thriller', 'Drama, Family',\n",
       "       'Adventure, Comedy, Fantasy, Sci-Fi', 'Comedy, Romance',\n",
       "       'Family, Music', 'Adventure, Family', 'Drama, Sport',\n",
       "       'Comedy, Family', 'Adventure, Drama',\n",
       "       'Action, Comedy, Drama, Romance',\n",
       "       'Action, Drama, Horror, Thriller', 'Action, Family, Sci-Fi',\n",
       "       'Drama, Fantasy', 'Sport', 'Adventure, Documentary, History, News',\n",
       "       'Adventure, Animation, Comedy, Horror', 'Drama, Western',\n",
       "       'Comedy, Horror, Mystery, Sci-Fi', 'Action, Documentary',\n",
       "       'Crime, Drama, Film-Noir, Thriller', 'Drama, Mystery, Thriller',\n",
       "       'Action, Comedy', 'Comedy, Documentary',\n",
       "       'Action, Adventure, Comedy, Drama, Horror, Sci-Fi, Thriller',\n",
       "       'Action, Adventure, Comedy', 'Comedy, Drama, Thriller',\n",
       "       'Horror, Sci-Fi', 'Action, Western',\n",
       "       'Adventure, Biography, Comedy', 'Drama, Fantasy, Western',\n",
       "       'Adventure, Comedy, Fantasy',\n",
       "       'Action, Adventure, Animation, Comedy, Fantasy, Sci-Fi',\n",
       "       'Biography', 'Action, Crime, Horror, Sci-Fi',\n",
       "       'Animation, Comedy, Family', 'Comedy, Crime, Drama, Mystery',\n",
       "       'Animation, Comedy, Family, Fantasy', 'Comedy, Sci-Fi',\n",
       "       'Drama, History, War', 'Comedy, Fantasy',\n",
       "       'Crime, Drama, Film-Noir, Mystery, Romance, Thriller',\n",
       "       'Comedy, Music', 'Action, Crime, Drama',\n",
       "       'Animation, Drama, Family', 'Drama, Romance, War',\n",
       "       'Fantasy, Horror, Thriller', 'Biography, Drama, Romance',\n",
       "       'Action, Drama, Family', 'Action, Crime, Thriller',\n",
       "       'Crime, Drama, Mystery', 'Horror, Mystery, Thriller',\n",
       "       'Documentary, War', 'Musical, Romance',\n",
       "       'Action, Adventure, Sci-Fi, Thriller',\n",
       "       'Biography, Crime, Drama, Romance', 'Drama, History',\n",
       "       'Drama, Mystery, Romance, Thriller',\n",
       "       'Crime, Drama, Mystery, Thriller',\n",
       "       'Adventure, Drama, Fantasy, Horror, Mystery',\n",
       "       'Crime, Mystery, Romance, Thriller', 'Comedy, Drama, Sci-Fi',\n",
       "       'Drama, Music, Romance',\n",
       "       'Action, Crime, Horror, Mystery, Thriller',\n",
       "       'Crime, Drama, Thriller', 'Action, Animation, Crime, Sci-Fi',\n",
       "       'Animation, History, Music', 'Comedy, Drama, War',\n",
       "       'Animation, Sport', 'Crime, Horror', 'Action, Drama, Thriller',\n",
       "       'Crime, Drama', 'Action, Horror, Thriller', 'Horror, Mystery',\n",
       "       'Drama, Music', 'Action, Horror', 'Biography, Comedy, Documentary',\n",
       "       'Action, Horror, Mystery, Thriller', 'Documentary, History, War',\n",
       "       'Action, Crime, Drama, Mystery, Thriller',\n",
       "       'Action, Sci-Fi, Thriller',\n",
       "       'Action, Adventure, Fantasy, Horror, Mystery, Thriller',\n",
       "       'Action, Adventure, Animation, Fantasy',\n",
       "       'Biography, Documentary, Sport', 'Sci-Fi, Thriller',\n",
       "       'Adventure, Comedy', 'Crime, Thriller',\n",
       "       'Comedy, Drama, Family, Romance', 'Comedy, Horror, Thriller',\n",
       "       'Comedy, Musical, Mystery, Romance', 'Crime, Fantasy, Sci-Fi',\n",
       "       'Biography, Documentary, History', 'Comedy, War',\n",
       "       'Action, Adventure', 'Crime, Documentary',\n",
       "       'Action, Adventure, Fantasy, Sci-Fi', 'History',\n",
       "       'Crime, Horror, Thriller', 'Comedy, Drama, Horror, Thriller',\n",
       "       'Drama, Family, Romance', 'Thriller, Western',\n",
       "       'Action, Comedy, Drama, Sport', 'Comedy, History',\n",
       "       'Adventure, Comedy, Family, Fantasy', 'Action, Drama, Romance',\n",
       "       'Drama, Mystery', 'Family, Fantasy, Musical',\n",
       "       'Drama, Musical, Romance', 'Comedy, Drama, Music', 'Drama, War',\n",
       "       'Action, Horror, Sci-Fi', 'Adventure, Comedy, Family',\n",
       "       'Biography, Drama, History, Thriller, War',\n",
       "       'Action, Crime, Drama, Romance',\n",
       "       'Action, Adventure, Crime, Drama, Thriller',\n",
       "       'Action, Comedy, Drama', 'Action, Adventure, Thriller',\n",
       "       'Action, Musical', 'Animation, Romance',\n",
       "       'Action, Adventure, Animation, Drama', 'Drama, Music, Musical',\n",
       "       'Animation, Comedy, Drama, Sci-Fi, Thriller',\n",
       "       'Comedy, Fantasy, Horror',\n",
       "       'Animation, Comedy, Family, Fantasy, Musical',\n",
       "       'Action, Comedy, Crime, Drama, Thriller',\n",
       "       'Action, Animation, Fantasy, Sci-Fi', 'Comedy, Documentary, Sport',\n",
       "       'Drama, Fantasy, Horror', 'Action, Crime', 'Documentary, Sport',\n",
       "       'Adventure, Drama, Family', 'Adventure, Comedy, Drama',\n",
       "       'Family, Fantasy', 'Drama, Romance, Thriller',\n",
       "       'Adventure, Animation, Family, Fantasy',\n",
       "       'Biography, Documentary, Drama, History, Mystery',\n",
       "       'Action, Adventure, Sci-Fi', 'Action, Adventure, Drama, Romance',\n",
       "       'Crime, Mystery', 'Drama, Fantasy, Mystery',\n",
       "       'Drama, Horror, Thriller', 'Action, Sport',\n",
       "       'Action, Adventure, Comedy, Drama, Sci-Fi', 'Comedy, Talk-Show',\n",
       "       'Documentary, Drama', 'Action, Biography, Drama, History',\n",
       "       'Adventure, Drama, War', 'Biography, Drama, Musical',\n",
       "       'Comedy, Horror, Musical', 'Comedy, Drama, Family, Musical',\n",
       "       'Action, Drama, History', 'Crime, Drama, Romance',\n",
       "       'Action, Adventure, Drama, Western', 'Comedy, Musical, War',\n",
       "       'Drama, Fantasy, Horror, Mystery, Romance, Thriller',\n",
       "       'Documentary, Music, Musical',\n",
       "       'Comedy, Crime, Horror, Music, Mystery, Thriller',\n",
       "       'Action, Drama, Romance, Western', 'Drama, Musical',\n",
       "       'Adventure, Comedy, Sci-Fi', 'Adventure, Comedy, Fantasy, History',\n",
       "       'Action, Adventure, Documentary, Sport',\n",
       "       'Action, Drama, History, War', 'Biography, Drama, History',\n",
       "       'Action, Animation, Comedy, Family, Music, Musical',\n",
       "       'Comedy, Mystery, Sci-Fi, Thriller', 'Adventure, Family, Mystery',\n",
       "       'Action, Adventure, Family',\n",
       "       'Adventure, Biography, Documentary, Drama', 'Drama, Horror',\n",
       "       'Action, Fantasy', 'Crime, Documentary, Drama',\n",
       "       'Action, Comedy, Documentary',\n",
       "       'Biography, Crime, Drama, Sport, Thriller',\n",
       "       'Action, Romance, Sport', 'Crime, Sci-Fi, Thriller',\n",
       "       'Romance, Western', 'Comedy, Family, Musical',\n",
       "       'Action, Crime, Mystery, Thriller', 'Adventure, Comedy, Romance',\n",
       "       'Comedy, Mystery', 'Action, Comedy, Crime, Romance', 'Musical',\n",
       "       'Adventure, Comedy, Fantasy, Mystery, Romance',\n",
       "       'Drama, Romance, Sport', 'Crime, Mystery, Western',\n",
       "       'Action, Adventure, Horror, Thriller',\n",
       "       'Adventure, Comedy, Horror, Sci-Fi', 'Comedy, Fantasy, Romance',\n",
       "       'Action, Adventure, Comedy, Fantasy',\n",
       "       'Adventure, Animation, Family, Fantasy, Musical',\n",
       "       'Action, Adventure, Crime, Drama', 'Action, Crime, Documentary',\n",
       "       'Adventure, Animation, Comedy, Family, Fantasy, Musical',\n",
       "       'Action, Adventure, Romance, Thriller', 'Crime, Mystery, Thriller',\n",
       "       'Action, Comedy, Romance', 'Comedy, Documentary, Drama, History',\n",
       "       'Action, Adventure, Drama, Thriller', 'Action, Comedy, Family',\n",
       "       'Fantasy, Horror', 'Mystery, Romance',\n",
       "       'Biography, Crime, Documentary, Mystery',\n",
       "       'Comedy, Horror, Mystery',\n",
       "       'Action, Biography, Drama, History, War',\n",
       "       'Adventure, Drama, History', 'Documentary, Horror',\n",
       "       'Biography, Crime, Drama', 'Comedy, Musical, Romance',\n",
       "       'Animation, Family, Fantasy', 'Drama, Horror, Sci-Fi',\n",
       "       'Action, Drama, History, Thriller',\n",
       "       'Animation, Drama, Family, Fantasy', 'Action, Drama, Fantasy',\n",
       "       'Mystery', 'Action, Adventure, Comedy, Horror, Sci-Fi, Thriller',\n",
       "       'Action, Adventure, Animation, Sci-Fi',\n",
       "       'Adventure, Biography, Documentary, News', 'Documentary, Sci-Fi',\n",
       "       'Adventure, Fantasy', 'Documentary, News', 'Comedy, Drama, Family',\n",
       "       'Adventure, Animation, Comedy, Family, Fantasy, Musical, Sci-Fi',\n",
       "       'Comedy, Drama, Mystery, Thriller',\n",
       "       'Adventure, Animation, Comedy, Family',\n",
       "       'Documentary, History, Sport',\n",
       "       'Action, Adventure, Crime, Fantasy, Thriller',\n",
       "       'Adventure, Crime, Drama, Mystery, Thriller',\n",
       "       'Biography, Crime, Drama, Thriller, War',\n",
       "       'Crime, Drama, Musical, Romance', 'Drama, Family, Fantasy',\n",
       "       'Family, Musical', 'Documentary, Drama, History, Mystery',\n",
       "       'Documentary, History, Music', 'Drama, Horror, Thriller, Western',\n",
       "       'Documentary, Drama, History',\n",
       "       'Crime, Documentary, History, Thriller',\n",
       "       'Biography, Documentary, History, Sport',\n",
       "       'Action, Comedy, History',\n",
       "       'Action, Adventure, Fantasy, Horror, Sci-Fi, Thriller, War',\n",
       "       'Adventure, Drama, Horror', 'Biography, Drama, Music', 'War',\n",
       "       'Animation, Fantasy', 'Adventure, Drama, Family, Western',\n",
       "       'Action, Adventure, Animation, Comedy',\n",
       "       'Action, Fantasy, Sci-Fi, Thriller',\n",
       "       'Crime, Drama, Romance, Thriller',\n",
       "       'Crime, Drama, Mystery, Romance, Thriller',\n",
       "       'Adventure, Comedy, Musical, Romance',\n",
       "       'Comedy, Crime, Drama, Thriller', 'Comedy, Mystery, Thriller',\n",
       "       'Biography, Documentary, Family, History', 'Documentary, Musical',\n",
       "       'Mystery, Thriller', 'Action, Adventure, Animation, Family',\n",
       "       'Adventure, Animation, Comedy, Family, Fantasy, Horror',\n",
       "       'Action, Adventure, Animation, Comedy, Sci-Fi',\n",
       "       'Biography, Documentary', 'Action, Horror, Sci-Fi, Thriller',\n",
       "       'Action, Comedy, Fantasy, Sci-Fi, War', 'Drama, History, Horror',\n",
       "       'Action, Adventure, Comedy, Fantasy, History',\n",
       "       'Adventure, Drama, Horror, Mystery',\n",
       "       'Comedy, Drama, Fantasy, Romance', 'Biography, Drama, Thriller',\n",
       "       'Action, Adventure, Drama, Sci-Fi', 'Drama, Mystery, Romance',\n",
       "       'Adventure', 'Action, Adventure, Drama',\n",
       "       'Adventure, Comedy, Drama, Romance',\n",
       "       'Action, Animation, Documentary',\n",
       "       'Documentary, History, Sport, War',\n",
       "       'Biography, Documentary, Drama',\n",
       "       'Documentary, Drama, Family, Music', 'Comedy, Documentary, Horror',\n",
       "       'Documentary, Drama, Family', 'Drama, Family, Music, Musical',\n",
       "       'Action, Adventure, Comedy, Mystery, Sport',\n",
       "       'Adventure, Documentary, Drama, Family',\n",
       "       'Adventure, Animation, Comedy, Family, Sci-Fi', nan,\n",
       "       'Horror, Romance', 'Comedy, Thriller', 'Drama, Romance, Sci-Fi',\n",
       "       'Action, Documentary, Sport',\n",
       "       'Action, Adventure, Animation, Comedy, Crime, Family, Fantasy, Sci-Fi',\n",
       "       'Adventure, Western', 'Mystery, Sci-Fi',\n",
       "       'Adventure, Animation, Drama, Family, Fantasy, Musical',\n",
       "       'Comedy, Drama, Horror, Romance, Sci-Fi, Thriller',\n",
       "       'Animation, Comedy', 'Romance, Sci-Fi, Thriller',\n",
       "       'Adventure, Drama, Romance', 'Biography, Drama, Family',\n",
       "       'Action, Adventure, Animation, Mystery, Sci-Fi',\n",
       "       'Comedy, Drama, Family, Sport', 'Drama, Horror, Mystery, Romance',\n",
       "       'Comedy, Musical, Sci-Fi', 'Action, Comedy, Family, Sci-Fi',\n",
       "       'Biography, Drama, Sport', 'Drama, Sci-Fi, Thriller',\n",
       "       'Animation, Biography, Drama, History',\n",
       "       'Adventure, Animation, Comedy, Drama, Family, Fantasy, Sci-Fi, Thriller',\n",
       "       'Action, Adventure, Horror, Romance, Sci-Fi',\n",
       "       'Adventure, Comedy, Family, Mystery',\n",
       "       'Adventure, Comedy, Crime, Drama', 'Animation, Family, Western',\n",
       "       'Adventure, Animation', 'Action, Comedy, Crime',\n",
       "       'Fantasy, Horror, Sci-Fi',\n",
       "       'Action, Adventure, Drama, Horror, Romance, Sci-Fi, Thriller',\n",
       "       'Drama, Family, Fantasy, Mystery', 'Action, Romance',\n",
       "       'Adventure, Drama, Fantasy, Mystery, Romance',\n",
       "       'Action, Adventure, Animation, Drama, Fantasy, Mystery',\n",
       "       'Adventure, Family, Fantasy', 'Action, Comedy, Romance, Sci-Fi',\n",
       "       'Adventure, Animation, Musical', 'Drama, Horror, Sci-Fi, Thriller',\n",
       "       'Action, War',\n",
       "       'Action, Adventure, Drama, Fantasy, Mystery, Sci-Fi, Thriller',\n",
       "       'Comedy, Crime, Romance', 'Comedy, Family, Romance',\n",
       "       'Drama, Horror, Romance, Thriller',\n",
       "       'Biography, Fantasy, Music, Musical', 'Action, Comedy, Horror',\n",
       "       'Action, Adventure, Comedy, Fantasy, Horror, Sci-Fi, Thriller',\n",
       "       'Action, Adventure, Drama, War', 'Crime, Drama, History',\n",
       "       'Action, Sci-Fi', 'Action, Documentary, Horror',\n",
       "       'Documentary, Family, Music', 'News',\n",
       "       'Comedy, Drama, Music, Romance', 'Action, Music',\n",
       "       'Crime, Drama, Romance, Sport', 'Biography, Drama, History, Sport',\n",
       "       'Drama, Romance, Western', 'Family, Fantasy, Sci-Fi',\n",
       "       'Action, Adventure, Biography, Documentary',\n",
       "       'Action, Animation, Comedy, Family, Fantasy, Romance',\n",
       "       'Family, Romance', 'Action, Comedy, Drama, Thriller',\n",
       "       'Comedy, Family, Western', 'Action, Biography, Drama, Music',\n",
       "       'Action, Drama, Sci-Fi',\n",
       "       'Action, Animation, Comedy, Family, Fantasy',\n",
       "       'Action, Documentary, History',\n",
       "       'Action, Adventure, Animation, Comedy, Family, Musical',\n",
       "       'Documentary, Reality-TV', 'Adventure, Fantasy, Horror',\n",
       "       'Adventure, Documentary, Drama, Sport', 'Documentary, Drama, War',\n",
       "       'Action, Biography, Crime, Drama',\n",
       "       'Action, Adventure, Fantasy, Thriller',\n",
       "       'Action, Biography, Crime, Thriller',\n",
       "       'Biography, Documentary, Romance', 'Drama, History, Thriller',\n",
       "       'Comedy, Crime, Thriller', 'Action, Adventure, Comedy, Family',\n",
       "       'Biography, Comedy, Drama', 'Action, Crime, Drama, History',\n",
       "       'Drama, Fantasy, Mystery, Thriller',\n",
       "       'Action, Drama, Horror, Romance, Thriller',\n",
       "       'Adventure, Comedy, Fantasy, Horror, Sci-Fi',\n",
       "       'Drama, Thriller, War', 'Comedy, Crime, Drama, Romance',\n",
       "       'Adventure, Comedy, Music', 'Comedy, Horror, Mystery, Thriller',\n",
       "       'Comedy, Drama, Fantasy, Horror, Mystery, Sci-Fi, Thriller',\n",
       "       'Drama, Fantasy, Romance, War', 'Crime, Drama, Horror, Thriller',\n",
       "       'Documentary, Romance', 'Animation, Documentary, Music',\n",
       "       'Documentary, History, Thriller',\n",
       "       'Action, Adventure, Comedy, Family, Fantasy, Sci-Fi',\n",
       "       'Fantasy, Horror, Mystery',\n",
       "       'Animation, Documentary, Drama, Horror',\n",
       "       'Horror, Mystery, Sci-Fi, Thriller',\n",
       "       'Comedy, Crime, Drama, Romance, Thriller',\n",
       "       'Adventure, Drama, Sci-Fi', 'Crime, Drama, Film-Noir',\n",
       "       'Action, History, War', 'Animation, Fantasy, Music',\n",
       "       'Action, Adventure, Comedy, Family, Sci-Fi',\n",
       "       'Biography, Music, Musical, Romance', 'Action, Drama, Sport',\n",
       "       'Crime, Documentary, History',\n",
       "       'Biography, Crime, Documentary, Music',\n",
       "       'Action, Adventure, Comedy, Family, Romance',\n",
       "       'Comedy, Drama, History',\n",
       "       'Action, Biography, Crime, Documentary, Music',\n",
       "       'Action, Biography, Drama, History, Romance',\n",
       "       'Action, Biography, Sport', 'Action, Drama, Western',\n",
       "       'Biography, Drama, History, War', 'Action, Drama, Music',\n",
       "       'Action, Comedy, Horror, Mystery',\n",
       "       'Adventure, Comedy, Crime, Thriller', 'Drama, History, Romance',\n",
       "       'Action, Adventure, Comedy, Crime, Drama',\n",
       "       'Comedy, Family, Fantasy, Musical',\n",
       "       'Action, Adventure, Fantasy, Sci-Fi, Thriller',\n",
       "       'Adventure, Biography, Comedy, History, Sport',\n",
       "       'Adventure, Mystery, Romance',\n",
       "       'Adventure, Family, Fantasy, Sci-Fi', 'Comedy, Fantasy, Sci-Fi',\n",
       "       'Crime, Drama, Thriller, War', 'Drama, Family, Musical',\n",
       "       'Comedy, Family, Fantasy, Mystery', 'Horror, Sci-Fi, Thriller',\n",
       "       'Adventure, Fantasy, Romance, Sci-Fi',\n",
       "       'Action, Adventure, Drama, Romance, Western',\n",
       "       'Comedy, Drama, Sci-Fi, Thriller',\n",
       "       'Action, Drama, Mystery, Romance, Western',\n",
       "       'Action, Adventure, Animation, Comedy, Crime, Family',\n",
       "       'Animation, Horror', 'Comedy, Drama, Romance, Sport',\n",
       "       'Crime, Horror, Mystery, Thriller',\n",
       "       'Action, Biography, Comedy, Drama',\n",
       "       'Action, Comedy, Crime, Romance, Thriller',\n",
       "       'Adventure, Comedy, Romance, Sport', 'Drama, Film-Noir',\n",
       "       'Comedy, Drama, Western', 'Drama, Fantasy, Musical, Sci-Fi',\n",
       "       'Biography, Comedy, Musical, Romance',\n",
       "       'Comedy, Documentary, Musical', 'Comedy, Drama, Horror',\n",
       "       'Documentary, Thriller',\n",
       "       'Action, Adventure, Animation, Family, Fantasy',\n",
       "       'Crime, Romance, Thriller', 'Action, Documentary, Music',\n",
       "       'Drama, Romance, Sci-Fi, Sport', 'History, Thriller, War',\n",
       "       'Biography, Drama, War', 'Action, Comedy, Sci-Fi, Thriller',\n",
       "       'Music, Reality-TV', 'Comedy, Horror, Romance, War',\n",
       "       'Action, Adventure, Family, Sci-Fi',\n",
       "       'Action, Fantasy, Musical, Romance',\n",
       "       'Action, Documentary, Drama, Music, Romance, War',\n",
       "       'Biography, Documentary, Western',\n",
       "       'Biography, Drama, History, Thriller', 'Documentary, Fantasy',\n",
       "       'Adventure, Biography, Comedy, Drama', 'Crime, Drama, Music',\n",
       "       'Action, Crime, Drama, Romance, Thriller', 'Fantasy',\n",
       "       'Action, Adventure, Animation, Drama, Fantasy',\n",
       "       'Crime, Drama, Family, Mystery', 'Comedy, Drama, Romance, Sci-Fi',\n",
       "       'Comedy, Sport', 'Biography, Comedy, Drama, Music, Romance, War',\n",
       "       'Adventure, Romance', 'Action, Comedy, Horror, Sci-Fi',\n",
       "       'Adventure, Animation, Fantasy',\n",
       "       'Adventure, Animation, Comedy, Family, Fantasy, Western',\n",
       "       'Adventure, Drama, History, Romance',\n",
       "       'Action, Adventure, Crime, Family, Sci-Fi',\n",
       "       'Comedy, Drama, Fantasy, Mystery, Sci-Fi',\n",
       "       'Adventure, Drama, Fantasy', 'Comedy, Drama, Family, Fantasy',\n",
       "       'Adventure, Biography, Drama, History', 'Comedy, Family, Sci-Fi',\n",
       "       'Comedy, Crime, Horror, Thriller',\n",
       "       'Comedy, Drama, Horror, Mystery', 'Action, Comedy, Crime, Drama',\n",
       "       'Family, Sport', 'Action, Adventure, Animation, Comedy, Family',\n",
       "       'Adventure, Crime, Family, Mystery', 'Drama, Sci-Fi, War',\n",
       "       'Action, Comedy, Horror, Sci-Fi, War',\n",
       "       'Crime, Drama, History, Mystery, Thriller',\n",
       "       'Comedy, Drama, Fantasy',\n",
       "       'Action, Animation, Comedy, Fantasy, Horror, Thriller',\n",
       "       'Comedy, Drama, Mystery', 'Action, Comedy, Music',\n",
       "       'Comedy, Drama, Fantasy, Romance, Sci-Fi',\n",
       "       'Action, Drama, Thriller, War',\n",
       "       'Action, Adventure, Drama, Sci-Fi, Thriller',\n",
       "       'Action, Adventure, Comedy, Fantasy, Mystery',\n",
       "       'Action, Romance, Thriller',\n",
       "       'Action, Comedy, Mystery, Romance, Thriller',\n",
       "       'Adventure, Mystery, Sci-Fi', 'Biography, Drama, Thriller, War',\n",
       "       'Action, Drama, History, Horror', 'Documentary, Music, Romance',\n",
       "       'Adventure, Comedy, Drama, Fantasy, Mystery, Romance',\n",
       "       'Action, Adventure, Drama, Fantasy, History',\n",
       "       'Adventure, Family, Fantasy, Horror',\n",
       "       'Action, Comedy, Drama, Family',\n",
       "       'Action, Adventure, Drama, Fantasy, Thriller', 'Action, Family',\n",
       "       'Comedy, Documentary, Music', 'Action, Adventure, Crime, Thriller',\n",
       "       'Adventure, Family, Fantasy, Romance',\n",
       "       'Biography, Crime, Documentary', 'Action, Biography, Drama, War',\n",
       "       'Action, Drama, Mystery', 'Crime, Horror, Mystery, Sci-Fi',\n",
       "       'Adventure, Horror, Mystery, Thriller',\n",
       "       'Animation, Fantasy, Musical', 'Adventure, History',\n",
       "       'Action, Drama, Fantasy, Horror, Thriller',\n",
       "       'Action, Adventure, Romance', 'Comedy, Family, Romance, Sport',\n",
       "       'Drama, History, Romance, War', 'Action, Comedy, Family, Romance',\n",
       "       'Comedy, Crime, Family',\n",
       "       'Action, Crime, Drama, Music, Mystery, Thriller',\n",
       "       'Action, Adventure, Drama, Mystery, Thriller',\n",
       "       'Action, Adventure, Comedy, Drama, Romance, Sport',\n",
       "       'Action, Fantasy, Thriller',\n",
       "       'Action, Animation, Drama, Mystery, Sci-Fi',\n",
       "       'Comedy, Music, Romance', 'Action, Biography, Documentary',\n",
       "       'Action, Drama, Mystery, Thriller',\n",
       "       'Action, Comedy, Fantasy, Horror',\n",
       "       'Action, Crime, Drama, History, Thriller, War', 'Animation, Drama',\n",
       "       'Action, Drama, Horror',\n",
       "       'Action, Adventure, Comedy, Crime, Thriller',\n",
       "       'Drama, Family, Romance, War', 'Comedy, Music, Sci-Fi',\n",
       "       'Drama, Horror, Mystery, Romance, Thriller',\n",
       "       'Action, Animation, Sci-Fi',\n",
       "       'Action, Comedy, Drama, Family, Romance',\n",
       "       'Horror, Romance, Thriller', 'Drama, History, Musical',\n",
       "       'Action, Biography, Crime, Drama, History',\n",
       "       'Action, Adventure, Biography, Drama', 'Comedy, Drama, Musical',\n",
       "       'Action, History, Musical', 'Action, Game-Show, Reality-TV, Sport',\n",
       "       'Comedy, Drama, Musical, Romance',\n",
       "       'Animation, Family, Fantasy, Musical',\n",
       "       'Action, Adventure, Comedy, Horror',\n",
       "       'Drama, Horror, Mystery, Sci-Fi, Thriller',\n",
       "       'Crime, Drama, Mystery, Romance',\n",
       "       'Comedy, Crime, Drama, Musical, Thriller',\n",
       "       'Crime, Drama, Horror, Mystery, Thriller',\n",
       "       'Action, Comedy, Drama, Horror', 'Action, Comedy, Horror, Romance',\n",
       "       'Biography, Comedy, Drama, History', 'Drama, Fantasy, Sci-Fi',\n",
       "       'Family, Sci-Fi', 'Action, Adventure, Comedy, Drama, Fantasy',\n",
       "       'Comedy, Western', 'Action, Drama, War',\n",
       "       'Adventure, Fantasy, Horror, Mystery',\n",
       "       'Action, Animation, Crime, Mystery, Sci-Fi, Thriller',\n",
       "       'Action, Drama, Horror, Mystery, Romance, Sci-Fi',\n",
       "       'Crime, Drama, Horror, Sci-Fi', 'Drama, Music, Thriller',\n",
       "       'Action, Documentary, Horror, Thriller',\n",
       "       'Crime, Drama, History, Sport',\n",
       "       'Drama, Fantasy, Romance, Thriller', 'Animation, Comedy, Fantasy',\n",
       "       'Adventure, Drama, Western',\n",
       "       'Drama, Fantasy, Horror, Mystery, Romance, Western',\n",
       "       'Animation, Crime, Documentary, Drama, Mystery', 'Comedy, Musical',\n",
       "       'Documentary, Drama, Sport',\n",
       "       'Adventure, Animation, Comedy, Drama, Family, Fantasy, Music, Sci-Fi',\n",
       "       'Adventure, Drama, Romance, Western',\n",
       "       'Action, Adventure, Drama, Fantasy, Romance',\n",
       "       'Action, Mystery, Thriller',\n",
       "       'Action, Adventure, Drama, History, Romance, Thriller',\n",
       "       'Action, Comedy, Drama, Fantasy, Mystery',\n",
       "       'Action, Adventure, Comedy, Drama',\n",
       "       'Action, Horror, Mystery, Sci-Fi, Thriller',\n",
       "       'Drama, Horror, Music', 'Drama, Fantasy, Horror, War',\n",
       "       'Animation, Biography, Documentary, News, War',\n",
       "       'History, Horror, Thriller',\n",
       "       'Crime, Drama, Horror, Romance, Thriller',\n",
       "       'Animation, Comedy, Drama, Sport',\n",
       "       'Action, Biography, Crime, Drama, Romance, Thriller',\n",
       "       'Crime, Horror, Mystery, Romance',\n",
       "       'Adventure, Comedy, Drama, Family, Fantasy',\n",
       "       'Crime, Drama, Musical, Thriller',\n",
       "       'Animation, Biography, Comedy, Family, Musical',\n",
       "       'Action, Drama, Horror, Mystery, Romance',\n",
       "       'Adventure, Fantasy, Romance',\n",
       "       'Adventure, Comedy, Crime, Drama, Romance',\n",
       "       'Adventure, Crime, Drama', 'Comedy, Drama, Horror, Romance',\n",
       "       'Animation, Biography, Documentary',\n",
       "       'Action, Adventure, Drama, History, Thriller',\n",
       "       'Action, Adventure, Animation, Family, Fantasy, Sci-Fi',\n",
       "       'Action, Drama, Fantasy, Sci-Fi',\n",
       "       'Drama, History, Mystery, Thriller',\n",
       "       'Action, Adventure, Animation, Comedy, Family, Sci-Fi',\n",
       "       'Comedy, Crime, Musical', 'Fantasy, Mystery, War',\n",
       "       'Drama, Horror, Mystery, Romance, Sci-Fi, Thriller',\n",
       "       'Action, Animation, Drama, Fantasy, Sci-Fi',\n",
       "       'Action, Comedy, Fantasy',\n",
       "       'Comedy, Fantasy, Horror, Thriller, Western',\n",
       "       'Action, Drama, Horror, Sci-Fi', 'Action, Drama, History, Mystery',\n",
       "       'Action, Crime, Mystery', 'Drama, Horror, Mystery, Thriller, War',\n",
       "       'Comedy, Family, Fantasy, Horror', 'Action, Crime, Drama, Mystery',\n",
       "       'Horror, Western', 'Action, Crime, Drama, History, Thriller',\n",
       "       'Animation, Comedy, Mystery',\n",
       "       'Action, Drama, History, Thriller, War', 'Fantasy, Romance',\n",
       "       'Drama, Mystery, Sci-Fi, Thriller', 'History, War',\n",
       "       'Adventure, Biography, Drama, Family',\n",
       "       'Action, Crime, Drama, Horror, Thriller',\n",
       "       'Action, Comedy, Crime, Thriller', 'Comedy, Documentary, Drama',\n",
       "       'Drama, Film-Noir, Mystery, Thriller',\n",
       "       'Biography, Comedy, Drama, Family, Sport',\n",
       "       'Mystery, Romance, Thriller', 'Action, Horror, Mystery',\n",
       "       'Action, Drama, Mystery, Romance', 'Action, Crime, Drama, Family',\n",
       "       'Action, Adventure, Comedy, Sci-Fi',\n",
       "       'Action, Crime, Family, Mystery',\n",
       "       'Action, Crime, Family, Mystery, Thriller',\n",
       "       'Action, Drama, Mystery, Sport',\n",
       "       'Action, Adventure, Crime, Mystery, Thriller',\n",
       "       'Action, Biography, Documentary, Music',\n",
       "       'Adventure, Animation, Comedy',\n",
       "       'Drama, Fantasy, Sci-Fi, Sport, Thriller',\n",
       "       'Action, Drama, Horror, Mystery, Thriller',\n",
       "       'Action, History, Thriller', 'Crime, Drama, Horror',\n",
       "       'Crime, Drama, Horror, Sci-Fi, Thriller',\n",
       "       'Comedy, Crime, Drama, Horror, Sci-Fi',\n",
       "       'Action, Comedy, Crime, Mystery',\n",
       "       'Action, Comedy, Drama, Romance, Sci-Fi', 'Action, Talk-Show',\n",
       "       'Biography, Thriller', 'Action, Drama, Thriller, Western',\n",
       "       'Adventure, Sci-Fi', 'Adventure, Drama, Romance, War',\n",
       "       'Comedy, Drama, Fantasy, Romance, War, Western',\n",
       "       'Comedy, Family, Horror', 'Comedy, Family, Fantasy',\n",
       "       'Crime, Mystery, Romance', 'Action, Crime, Drama, Western',\n",
       "       'Biography, Comedy, Drama, Romance',\n",
       "       'Comedy, Drama, Romance, Western', 'Action, Crime, Sci-Fi',\n",
       "       'Action, Adventure, Comedy, Horror, Mystery, Sci-Fi, Sport, Thriller',\n",
       "       'Adventure, Comedy, Drama, Family',\n",
       "       'Drama, Music, Mystery, Romance', 'Drama, Family, Sport',\n",
       "       'Action, Comedy, Sci-Fi', 'Action, Fantasy, Sci-Fi',\n",
       "       'Animation, Crime, Drama, Mystery, Thriller',\n",
       "       'Adventure, Animation, Comedy, Drama, Family, Fantasy, Romance',\n",
       "       'Comedy, Reality-TV', 'Comedy, Crime, Mystery',\n",
       "       'Adventure, Horror', 'Action, Drama, Music, Romance',\n",
       "       'Adventure, Biography, Comedy, Drama, Thriller',\n",
       "       'Action, Adventure, Drama, Fantasy, Sci-Fi',\n",
       "       'Action, Crime, Fantasy, Horror, Romance, Thriller',\n",
       "       'Comedy, Family, Romance, Sci-Fi',\n",
       "       'Action, Adventure, Drama, Family',\n",
       "       'Action, Drama, Musical, Romance, Thriller',\n",
       "       'Comedy, Drama, Fantasy, Horror',\n",
       "       'Action, Crime, Drama, Mystery, Romance, Thriller',\n",
       "       'Drama, Fantasy, Horror, Thriller', 'Drama, Sport, Thriller',\n",
       "       'Action, Biography, Drama', 'Action, Drama, Music, Romance, Sport',\n",
       "       'Action, Adventure, History, Western',\n",
       "       'Action, Adventure, Mystery', 'Action, Biography',\n",
       "       'Action, Drama, Horror, Mystery', 'Adventure, Comedy, Crime',\n",
       "       'Fantasy, Music', 'Comedy, Fantasy, Horror, Sci-Fi',\n",
       "       'Action, Comedy, Family, Music, Western', 'Game-Show, Reality-TV',\n",
       "       'Adventure, Documentary', 'Biography, Drama, Family, History',\n",
       "       'Crime, Drama, Music, Thriller', 'Action, Music, Sport',\n",
       "       'Biography, Drama, Mystery', 'Action, Family, Romance',\n",
       "       'Action, Adventure, Crime, Drama, Mystery, Thriller',\n",
       "       'Action, Comedy, Mystery', 'Adventure, Family, Fantasy, Musical',\n",
       "       'Action, Adventure, Comedy, Sci-Fi, Thriller',\n",
       "       'Action, Adventure, Crime, Romance',\n",
       "       'Adventure, Drama, History, Romance, War, Western',\n",
       "       'Comedy, Family, Horror, Musical',\n",
       "       'Action, Biography, Documentary, War',\n",
       "       'Action, Animation, Drama, Fantasy, Horror, Sci-Fi, Thriller',\n",
       "       'Action, Adventure, Drama, Fantasy, Sci-Fi, Thriller',\n",
       "       'Fantasy, History, Horror, Thriller', 'Comedy, Game-Show',\n",
       "       'Action, Drama, Family, Western', 'Drama, Thriller, Western',\n",
       "       'Action, Crime, Horror, Thriller',\n",
       "       'Action, Adventure, Animation, Comedy, Drama, Fantasy, Romance, Sci-Fi',\n",
       "       'Action, Animation, Drama, Sci-Fi',\n",
       "       'Action, Crime, Documentary, Sport',\n",
       "       'Adventure, Animation, Comedy, Drama, Family, Fantasy',\n",
       "       'Fantasy, Sci-Fi', 'Action, Documentary, Fantasy',\n",
       "       'Action, Comedy, Drama, Fantasy, Romance',\n",
       "       'Action, Adventure, Horror, Mystery, Sci-Fi, Thriller',\n",
       "       'Drama, Horror, Romance, Sci-Fi, Thriller',\n",
       "       'Action, Adventure, Horror, Sci-Fi, Thriller',\n",
       "       'Adventure, Drama, Family, Fantasy, Musical, Romance',\n",
       "       'Documentary, Western',\n",
       "       'Action, Adventure, Fantasy, Horror, Thriller',\n",
       "       'Action, Biography, Comedy, Documentary, Music',\n",
       "       'Action, Comedy, Crime, Drama, Mystery, Thriller',\n",
       "       'Action, Animation, Drama, Romance, Sci-Fi',\n",
       "       'Adventure, Family, Fantasy, Music',\n",
       "       'Adventure, Animation, Family, Music', 'Animation, Comedy, Drama',\n",
       "       'Action, Adventure, Animation, Comedy, Family, Fantasy, Sci-Fi',\n",
       "       'Animation, Comedy, Sci-Fi, Western', 'Horror, Mystery, Sci-Fi',\n",
       "       'Action, Animation'], dtype=object)"
      ]
     },
     "execution_count": 13,
     "metadata": {},
     "output_type": "execute_result"
    }
   ],
   "source": [
    "df['Genres'].unique()"
   ]
  },
  {
   "cell_type": "code",
   "execution_count": 14,
   "id": "0b056721-ad59-4296-99fe-b7c924cd0532",
   "metadata": {},
   "outputs": [
    {
     "data": {
      "text/plain": [
       "778"
      ]
     },
     "execution_count": 14,
     "metadata": {},
     "output_type": "execute_result"
    }
   ],
   "source": [
    "df['Genres'].nunique()"
   ]
  },
  {
   "cell_type": "code",
   "execution_count": 15,
   "id": "465d432d-30aa-408a-a759-d083a3d3834d",
   "metadata": {},
   "outputs": [
    {
     "data": {
      "text/plain": [
       "array(['en', 'th', 'ko', 'te', 'pa', 'es', 'de', 'fr', 'ta', 'he', 'pt',\n",
       "       'cn', 'nl', 'sv', 'id', 'zh', 'ja', 'dz', nan, 'it', 'fi', 'tl',\n",
       "       'ms', 'fa', 'ml', 'ru', 'et', 'ar', 'kn', 'hi', 'no', 'fy', 'tr',\n",
       "       'cs', 'da', 'ur', 'ca', 'hu', 'ro', 'vi', 'is', 'mo', 'bo', 'pl',\n",
       "       'sk', 'bg', 'sq', 'mr', 'sh', 'ig', 'zu', 'hr', 'el', 'mk', 'sr',\n",
       "       'uk', 'kk', 'lv', 'se', 'bn', 'ff', 'bs', 'yi', 'jv', 'ne', 'ka',\n",
       "       'ku', 'uz', 'af', 'gu', 'ga', 'gl', 'sl'], dtype=object)"
      ]
     },
     "execution_count": 15,
     "metadata": {},
     "output_type": "execute_result"
    }
   ],
   "source": [
    "df['Language'].unique()"
   ]
  },
  {
   "cell_type": "code",
   "execution_count": 16,
   "id": "3e3172a6-8c2c-4cd1-8638-6ae0b386648d",
   "metadata": {},
   "outputs": [
    {
     "data": {
      "text/plain": [
       "72"
      ]
     },
     "execution_count": 16,
     "metadata": {},
     "output_type": "execute_result"
    }
   ],
   "source": [
    "df['Language'].nunique()"
   ]
  },
  {
   "cell_type": "code",
   "execution_count": 17,
   "id": "174713df-70cc-4860-924d-2951a5d9dc33",
   "metadata": {},
   "outputs": [
    {
     "data": {
      "text/plain": [
       "4869"
      ]
     },
     "execution_count": 17,
     "metadata": {},
     "output_type": "execute_result"
    }
   ],
   "source": [
    "df['IMDb Code'].nunique()"
   ]
  },
  {
   "cell_type": "code",
   "execution_count": 18,
   "id": "6657ef63-2cbc-4e4a-a258-347d0fff9eb6",
   "metadata": {},
   "outputs": [
    {
     "data": {
      "text/plain": [
       "0"
      ]
     },
     "execution_count": 18,
     "metadata": {},
     "output_type": "execute_result"
    }
   ],
   "source": [
    "df['Summary'].nunique()"
   ]
  },
  {
   "cell_type": "code",
   "execution_count": 19,
   "id": "9d0efe8c-9736-41c6-9adc-043256010f77",
   "metadata": {},
   "outputs": [
    {
     "data": {
      "text/plain": [
       "4869"
      ]
     },
     "execution_count": 19,
     "metadata": {},
     "output_type": "execute_result"
    }
   ],
   "source": [
    "df['URL'].nunique()"
   ]
  },
  {
   "cell_type": "code",
   "execution_count": 20,
   "id": "36384cc1-0f91-41bb-9f31-e0b0d697a6e2",
   "metadata": {},
   "outputs": [
    {
     "data": {
      "text/plain": [
       "31"
      ]
     },
     "execution_count": 20,
     "metadata": {},
     "output_type": "execute_result"
    }
   ],
   "source": [
    "df.duplicated().sum() #Cheking duplicates"
   ]
  },
  {
   "cell_type": "markdown",
   "id": "abc70c25-94f6-42ea-942f-ffb2acad14ed",
   "metadata": {},
   "source": [
    "### Data Cleaning"
   ]
  },
  {
   "cell_type": "code",
   "execution_count": 21,
   "id": "c468cfb6-157d-42df-8e32-1818ff80d051",
   "metadata": {},
   "outputs": [],
   "source": [
    "df = df[df['Rating'] > 0]"
   ]
  },
  {
   "cell_type": "code",
   "execution_count": 22,
   "id": "0e8921ec-48a3-4f8c-b057-9841891bbbc5",
   "metadata": {},
   "outputs": [],
   "source": [
    "df = df[df['Runtime (min)'] > 0]"
   ]
  },
  {
   "cell_type": "code",
   "execution_count": 23,
   "id": "62bc7a4f-9f5f-494a-a30a-899f4ec5ca3d",
   "metadata": {},
   "outputs": [],
   "source": [
    "df.drop(columns = ['Summary'],inplace = True)"
   ]
  },
  {
   "cell_type": "code",
   "execution_count": 24,
   "id": "f3b917a1-5112-421c-8fd3-4175b4c1c41d",
   "metadata": {},
   "outputs": [],
   "source": [
    "df = df.rename(columns = {'Runtime (min)': 'Runtime'})"
   ]
  },
  {
   "cell_type": "code",
   "execution_count": 25,
   "id": "e42ee9c4-aeda-4ff6-9223-69c744be4001",
   "metadata": {},
   "outputs": [],
   "source": [
    "df.drop_duplicates(inplace = True,ignore_index = True)"
   ]
  },
  {
   "cell_type": "code",
   "execution_count": 26,
   "id": "f359a9d1-4a6b-4d1f-ba76-78fc5962565d",
   "metadata": {},
   "outputs": [],
   "source": [
    "df['Genres'].fillna('Unknown', inplace=True)"
   ]
  },
  {
   "cell_type": "code",
   "execution_count": 27,
   "id": "b74d6e3e-0e70-4cbf-80d8-71dd33c5c929",
   "metadata": {},
   "outputs": [],
   "source": [
    "df['Language'].fillna('Language', inplace=True)"
   ]
  },
  {
   "cell_type": "code",
   "execution_count": 28,
   "id": "8da23611-8bd5-41dd-9b48-290659cb3372",
   "metadata": {},
   "outputs": [
    {
     "data": {
      "text/html": [
       "<div>\n",
       "<style scoped>\n",
       "    .dataframe tbody tr th:only-of-type {\n",
       "        vertical-align: middle;\n",
       "    }\n",
       "\n",
       "    .dataframe tbody tr th {\n",
       "        vertical-align: top;\n",
       "    }\n",
       "\n",
       "    .dataframe thead th {\n",
       "        text-align: right;\n",
       "    }\n",
       "</style>\n",
       "<table border=\"1\" class=\"dataframe\">\n",
       "  <thead>\n",
       "    <tr style=\"text-align: right;\">\n",
       "      <th></th>\n",
       "      <th>Title</th>\n",
       "      <th>Year</th>\n",
       "      <th>Rating</th>\n",
       "      <th>Runtime</th>\n",
       "      <th>Genres</th>\n",
       "      <th>Language</th>\n",
       "      <th>IMDb Code</th>\n",
       "      <th>URL</th>\n",
       "    </tr>\n",
       "  </thead>\n",
       "  <tbody>\n",
       "    <tr>\n",
       "      <th>0</th>\n",
       "      <td>Morningside</td>\n",
       "      <td>2025</td>\n",
       "      <td>7.4</td>\n",
       "      <td>91</td>\n",
       "      <td>Drama</td>\n",
       "      <td>en</td>\n",
       "      <td>tt24666718</td>\n",
       "      <td>https://yts.mx/movies/morningside-2025</td>\n",
       "    </tr>\n",
       "    <tr>\n",
       "      <th>1</th>\n",
       "      <td>Honey Sweet</td>\n",
       "      <td>2023</td>\n",
       "      <td>6.4</td>\n",
       "      <td>118</td>\n",
       "      <td>Comedy</td>\n",
       "      <td>ko</td>\n",
       "      <td>tt28625660</td>\n",
       "      <td>https://yts.mx/movies/honey-sweet-2023</td>\n",
       "    </tr>\n",
       "    <tr>\n",
       "      <th>2</th>\n",
       "      <td>Sadie McKee</td>\n",
       "      <td>1934</td>\n",
       "      <td>6.9</td>\n",
       "      <td>93</td>\n",
       "      <td>Drama, Romance</td>\n",
       "      <td>en</td>\n",
       "      <td>tt0025740</td>\n",
       "      <td>https://yts.mx/movies/sadie-mckee-1934</td>\n",
       "    </tr>\n",
       "    <tr>\n",
       "      <th>3</th>\n",
       "      <td>Gabriel Over the White House</td>\n",
       "      <td>1933</td>\n",
       "      <td>6.4</td>\n",
       "      <td>86</td>\n",
       "      <td>Drama, Fantasy, Romance</td>\n",
       "      <td>en</td>\n",
       "      <td>tt0024044</td>\n",
       "      <td>https://yts.mx/movies/gabriel-over-the-white-h...</td>\n",
       "    </tr>\n",
       "    <tr>\n",
       "      <th>4</th>\n",
       "      <td>The Paradise of Thorns</td>\n",
       "      <td>2024</td>\n",
       "      <td>7.7</td>\n",
       "      <td>131</td>\n",
       "      <td>Drama, Thriller</td>\n",
       "      <td>th</td>\n",
       "      <td>tt32362515</td>\n",
       "      <td>https://yts.mx/movies/the-paradise-of-thorns-2024</td>\n",
       "    </tr>\n",
       "    <tr>\n",
       "      <th>...</th>\n",
       "      <td>...</td>\n",
       "      <td>...</td>\n",
       "      <td>...</td>\n",
       "      <td>...</td>\n",
       "      <td>...</td>\n",
       "      <td>...</td>\n",
       "      <td>...</td>\n",
       "      <td>...</td>\n",
       "    </tr>\n",
       "    <tr>\n",
       "      <th>4581</th>\n",
       "      <td>Broken Lance</td>\n",
       "      <td>2024</td>\n",
       "      <td>5.5</td>\n",
       "      <td>29</td>\n",
       "      <td>Action, Animation</td>\n",
       "      <td>en</td>\n",
       "      <td>tt31720896</td>\n",
       "      <td>https://yts.mx/movies/broken-lance-2024</td>\n",
       "    </tr>\n",
       "    <tr>\n",
       "      <th>4582</th>\n",
       "      <td>The Girl Locked Upstairs: The Tanya Kach Story</td>\n",
       "      <td>2024</td>\n",
       "      <td>5.9</td>\n",
       "      <td>88</td>\n",
       "      <td>Action, Crime, Drama</td>\n",
       "      <td>en</td>\n",
       "      <td>tt32559891</td>\n",
       "      <td>https://yts.mx/movies/the-girl-locked-upstairs...</td>\n",
       "    </tr>\n",
       "    <tr>\n",
       "      <th>4583</th>\n",
       "      <td>Mr. Right</td>\n",
       "      <td>2023</td>\n",
       "      <td>5.9</td>\n",
       "      <td>95</td>\n",
       "      <td>Action, Romance</td>\n",
       "      <td>en</td>\n",
       "      <td>tt28639015</td>\n",
       "      <td>https://yts.mx/movies/mr-right-2023</td>\n",
       "    </tr>\n",
       "    <tr>\n",
       "      <th>4584</th>\n",
       "      <td>Gabriel's Redemption: Part Three</td>\n",
       "      <td>2023</td>\n",
       "      <td>6.1</td>\n",
       "      <td>96</td>\n",
       "      <td>Action, Romance</td>\n",
       "      <td>en</td>\n",
       "      <td>tt27845943</td>\n",
       "      <td>https://yts.mx/movies/gabriels-redemption-part...</td>\n",
       "    </tr>\n",
       "    <tr>\n",
       "      <th>4585</th>\n",
       "      <td>Puffin Rock and the New Friends</td>\n",
       "      <td>2023</td>\n",
       "      <td>6.6</td>\n",
       "      <td>80</td>\n",
       "      <td>Action, Adventure, Animation, Comedy, Family</td>\n",
       "      <td>en</td>\n",
       "      <td>tt26700853</td>\n",
       "      <td>https://yts.mx/movies/puffin-rock-and-the-new-...</td>\n",
       "    </tr>\n",
       "  </tbody>\n",
       "</table>\n",
       "<p>4586 rows × 8 columns</p>\n",
       "</div>"
      ],
      "text/plain": [
       "                                               Title  Year  Rating  Runtime  \\\n",
       "0                                        Morningside  2025     7.4       91   \n",
       "1                                        Honey Sweet  2023     6.4      118   \n",
       "2                                        Sadie McKee  1934     6.9       93   \n",
       "3                       Gabriel Over the White House  1933     6.4       86   \n",
       "4                             The Paradise of Thorns  2024     7.7      131   \n",
       "...                                              ...   ...     ...      ...   \n",
       "4581                                    Broken Lance  2024     5.5       29   \n",
       "4582  The Girl Locked Upstairs: The Tanya Kach Story  2024     5.9       88   \n",
       "4583                                       Mr. Right  2023     5.9       95   \n",
       "4584                Gabriel's Redemption: Part Three  2023     6.1       96   \n",
       "4585                 Puffin Rock and the New Friends  2023     6.6       80   \n",
       "\n",
       "                                            Genres Language   IMDb Code  \\\n",
       "0                                            Drama       en  tt24666718   \n",
       "1                                           Comedy       ko  tt28625660   \n",
       "2                                   Drama, Romance       en   tt0025740   \n",
       "3                          Drama, Fantasy, Romance       en   tt0024044   \n",
       "4                                  Drama, Thriller       th  tt32362515   \n",
       "...                                            ...      ...         ...   \n",
       "4581                             Action, Animation       en  tt31720896   \n",
       "4582                          Action, Crime, Drama       en  tt32559891   \n",
       "4583                               Action, Romance       en  tt28639015   \n",
       "4584                               Action, Romance       en  tt27845943   \n",
       "4585  Action, Adventure, Animation, Comedy, Family       en  tt26700853   \n",
       "\n",
       "                                                    URL  \n",
       "0                https://yts.mx/movies/morningside-2025  \n",
       "1                https://yts.mx/movies/honey-sweet-2023  \n",
       "2                https://yts.mx/movies/sadie-mckee-1934  \n",
       "3     https://yts.mx/movies/gabriel-over-the-white-h...  \n",
       "4     https://yts.mx/movies/the-paradise-of-thorns-2024  \n",
       "...                                                 ...  \n",
       "4581            https://yts.mx/movies/broken-lance-2024  \n",
       "4582  https://yts.mx/movies/the-girl-locked-upstairs...  \n",
       "4583                https://yts.mx/movies/mr-right-2023  \n",
       "4584  https://yts.mx/movies/gabriels-redemption-part...  \n",
       "4585  https://yts.mx/movies/puffin-rock-and-the-new-...  \n",
       "\n",
       "[4586 rows x 8 columns]"
      ]
     },
     "execution_count": 28,
     "metadata": {},
     "output_type": "execute_result"
    }
   ],
   "source": [
    "df"
   ]
  },
  {
   "cell_type": "markdown",
   "id": "0db8e4e4-6d15-43cb-bbdc-747cf4cc8fb8",
   "metadata": {},
   "source": [
    "### Modeling"
   ]
  },
  {
   "cell_type": "code",
   "execution_count": 29,
   "id": "f4a41e2d-45ae-4eaf-ae6e-93a751633ce8",
   "metadata": {},
   "outputs": [],
   "source": [
    "from sklearn.feature_extraction.text import TfidfVectorizer\n",
    "vect = TfidfVectorizer()\n",
    "df1 = vect.fit_transform(df['Genres'])\n",
    "df1 = df1.toarray()"
   ]
  },
  {
   "cell_type": "code",
   "execution_count": 30,
   "id": "b32a9567-ef42-4861-bcc3-d20a11a9b6da",
   "metadata": {},
   "outputs": [],
   "source": [
    "df2 = vect.fit_transform(df['Language'])\n",
    "df2 = df2.toarray()"
   ]
  },
  {
   "cell_type": "code",
   "execution_count": 31,
   "id": "a6fc7adf-8714-4d74-b760-3f66fef6cd5d",
   "metadata": {},
   "outputs": [],
   "source": [
    "df_total = np.concatenate([df1,df2],axis = 1)"
   ]
  },
  {
   "cell_type": "code",
   "execution_count": 32,
   "id": "ca92164a-8608-4ea7-8a53-2a4c736b617a",
   "metadata": {},
   "outputs": [
    {
     "data": {
      "text/plain": [
       "array([[0.        , 0.        , 0.        , ..., 0.        , 0.        ,\n",
       "        0.        ],\n",
       "       [0.        , 0.        , 0.        , ..., 0.        , 0.        ,\n",
       "        0.        ],\n",
       "       [0.        , 0.        , 0.        , ..., 0.        , 0.        ,\n",
       "        0.        ],\n",
       "       ...,\n",
       "       [0.64735542, 0.        , 0.        , ..., 0.        , 0.        ,\n",
       "        0.        ],\n",
       "       [0.64735542, 0.        , 0.        , ..., 0.        , 0.        ,\n",
       "        0.        ],\n",
       "       [0.33200485, 0.47480469, 0.57624671, ..., 0.        , 0.        ,\n",
       "        0.        ]])"
      ]
     },
     "execution_count": 32,
     "metadata": {},
     "output_type": "execute_result"
    }
   ],
   "source": [
    "df_total"
   ]
  },
  {
   "cell_type": "markdown",
   "id": "94ab7086-1936-4177-8c11-4e5085b6c866",
   "metadata": {},
   "source": [
    "- **Cosine Similerity**"
   ]
  },
  {
   "cell_type": "code",
   "execution_count": 33,
   "id": "37e4dfa3-495c-44ce-9135-f9a2223a9c07",
   "metadata": {},
   "outputs": [
    {
     "name": "stdout",
     "output_type": "stream",
     "text": [
      "[[1.         0.         0.76813138 ... 0.5        0.5        0.5       ]\n",
      " [0.         1.         0.         ... 0.         0.         0.15168249]\n",
      " [0.76813138 0.         1.         ... 0.82166292 0.82166292 0.5       ]\n",
      " ...\n",
      " [0.5        0.         0.82166292 ... 1.         1.         0.60746257]\n",
      " [0.5        0.         0.82166292 ... 1.         1.         0.60746257]\n",
      " [0.5        0.15168249 0.5        ... 0.60746257 0.60746257 1.        ]]\n"
     ]
    }
   ],
   "source": [
    "from sklearn.metrics.pairwise import cosine_similarity\n",
    "similarity = cosine_similarity(df_total)\n",
    "print(similarity)"
   ]
  },
  {
   "cell_type": "code",
   "execution_count": 34,
   "id": "bb39f9fd-60da-4803-a417-4abd79fe9fc1",
   "metadata": {},
   "outputs": [
    {
     "data": {
      "text/plain": [
       "(4586, 4586)"
      ]
     },
     "execution_count": 34,
     "metadata": {},
     "output_type": "execute_result"
    }
   ],
   "source": [
    "similarity.shape"
   ]
  },
  {
   "cell_type": "markdown",
   "id": "f227390b-0ecf-48e1-93e9-11274a4de09f",
   "metadata": {},
   "source": [
    "- **Creating a list**"
   ]
  },
  {
   "cell_type": "code",
   "execution_count": 35,
   "id": "65a2d6b6-f08d-4fc1-9675-394f6db5b884",
   "metadata": {},
   "outputs": [],
   "source": [
    "list_of_titles = df['Title'].tolist()"
   ]
  },
  {
   "cell_type": "code",
   "execution_count": 36,
   "id": "b27c3223-1ba4-43a6-a5b0-54d578e12c89",
   "metadata": {},
   "outputs": [
    {
     "name": "stdin",
     "output_type": "stream",
     "text": [
      "Enter a movie name you want : Honey Sweet\n"
     ]
    }
   ],
   "source": [
    "#getting movie name from the user\n",
    "movie_search = input('Enter a movie name you want :' )"
   ]
  },
  {
   "cell_type": "code",
   "execution_count": 37,
   "id": "36cb8036-126e-40e9-8a24-1f6342d1ab76",
   "metadata": {},
   "outputs": [
    {
     "name": "stdout",
     "output_type": "stream",
     "text": [
      "['Honey Sweet', 'HoneyBee', 'Home Sweet Loan']\n"
     ]
    }
   ],
   "source": [
    "import difflib\n",
    "find_close_match = difflib.get_close_matches(movie_search,list_of_titles)\n",
    "print(find_close_match)"
   ]
  },
  {
   "cell_type": "code",
   "execution_count": 38,
   "id": "a1d35f53-1f1d-4845-8bf0-9492ca626ea5",
   "metadata": {},
   "outputs": [
    {
     "name": "stdout",
     "output_type": "stream",
     "text": [
      "Honey Sweet\n"
     ]
    }
   ],
   "source": [
    "close_match = find_close_match[0]\n",
    "print(close_match)"
   ]
  },
  {
   "cell_type": "code",
   "execution_count": 39,
   "id": "2949e6eb-3a3c-428b-bbea-4667bbd0de7a",
   "metadata": {},
   "outputs": [
    {
     "data": {
      "text/plain": [
       "1"
      ]
     },
     "execution_count": 39,
     "metadata": {},
     "output_type": "execute_result"
    }
   ],
   "source": [
    "index_of_item = df[df['Title'] == close_match].index.tolist()[0]\n",
    "index_of_item"
   ]
  },
  {
   "cell_type": "code",
   "execution_count": 40,
   "id": "3b071735-fe74-43a9-944c-f09eee997ff5",
   "metadata": {},
   "outputs": [
    {
     "name": "stdout",
     "output_type": "stream",
     "text": [
      "[(0, 0.0), (1, 0.9999999999999998), (2, 0.0), (3, 0.0), (4, 0.0), (5, 0.4999999999999999), (6, 0.0), (7, 0.4999999999999999), (8, 0.4999999999999999), (9, 0.0), (10, 0.0), (11, 0.0), (12, 0.18563618912231902), (13, 0.0), (14, 0.0), (15, 0.0), (16, 0.0), (17, 0.14100590760456105), (18, 0.0), (19, 0.0), (20, 0.4999999999999999), (21, 0.38688661130829566), (22, 0.0), (23, 0.0), (24, 0.0), (25, 0.0), (26, 0.0), (27, 0.0), (28, 0.0), (29, 0.1733801978372286), (30, 0.0), (31, 0.14100590760456105), (32, 0.0), (33, 0.0), (34, 0.0), (35, 0.0), (36, 0.0), (37, 0.30565352039237503), (38, 0.0), (39, 0.0), (40, 0.0), (41, 0.26761445187478167), (42, 0.0), (43, 0.0), (44, 0.0), (45, 0.11344506583490996), (46, 0.0), (47, 0.0), (48, 0.0), (49, 0.38688661130829566), (50, 0.0), (51, 0.0), (52, 0.4999999999999999), (53, 0.26761445187478167), (54, 0.0), (55, 0.0), (56, 0.0), (57, 0.25922489046825764), (58, 0.27397546206455553), (59, 0.0), (60, 0.0), (61, 0.0), (62, 0.0), (63, 0.0), (64, 0.0), (65, 0.0), (66, 0.0), (67, 0.0), (68, 0.0), (69, 0.0), (70, 0.28629174245469174), (71, 0.4999999999999999), (72, 0.0), (73, 0.0), (74, 0.0), (75, 0.18864101881675122), (76, 0.0), (77, 0.0), (78, 0.4999999999999999), (79, 0.0), (80, 0.4999999999999999), (81, 0.13473470536156856), (82, 0.0), (83, 0.0), (84, 0.0), (85, 0.16811212911456463), (86, 0.0), (87, 0.4999999999999999), (88, 0.14436362164454433), (89, 0.3065501015557158), (90, 0.30565352039237503), (91, 0.0), (92, 0.0), (93, 0.0), (94, 0.0), (95, 0.0), (96, 0.0), (97, 0.0), (98, 0.0), (99, 0.23496502966400926), (100, 0.0), (101, 0.0), (102, 0.0), (103, 0.0), (104, 0.0), (105, 0.38688661130829566), (106, 0.0), (107, 0.0), (108, 0.0), (109, 0.0), (110, 0.0), (111, 0.0), (112, 0.0), (113, 0.0), (114, 0.0), (115, 0.0), (116, 0.27397546206455553), (117, 0.1691879865084225), (118, 0.0), (119, 0.4999999999999999), (120, 0.0), (121, 0.0), (122, 0.15171987284178798), (123, 0.0), (124, 0.0), (125, 0.4999999999999999), (126, 0.4999999999999999), (127, 0.8372741790583595), (128, 0.30495008792620504), (129, 0.0), (130, 0.4999999999999999), (131, 0.0), (132, 0.0), (133, 0.0), (134, 0.3065501015557158), (135, 0.0), (136, 0.0), (137, 0.13397983740689395), (138, 0.0), (139, 0.7038270354898939), (140, 0.0), (141, 0.0), (142, 0.0), (143, 0.2319355547474144), (144, 0.7904594049214837), (145, 0.0), (146, 0.0), (147, 0.0), (148, 0.0), (149, 0.0), (150, 0.0), (151, 0.18992501524349295), (152, 0.30495008792620504), (153, 0.4999999999999999), (154, 0.0), (155, 0.19833883934085486), (156, 0.0), (157, 0.12198185137610938), (158, 0.0), (159, 0.0), (160, 0.0), (161, 0.0), (162, 0.0), (163, 0.30565352039237503), (164, 0.0), (165, 0.18609831129795407), (166, 0.19976844874193078), (167, 0.1733801978372286), (168, 0.15714148107090412), (169, 0.0), (170, 0.4999999999999999), (171, 0.194029764807868), (172, 0.0), (173, 0.0), (174, 0.0), (175, 0.0), (176, 0.0), (177, 0.0), (178, 0.0), (179, 0.2530062359134096), (180, 0.0), (181, 0.23187393223938224), (182, 0.3065501015557158), (183, 0.0), (184, 0.0), (185, 0.0), (186, 0.38688661130829566), (187, 0.0), (188, 0.0), (189, 0.0), (190, 0.0), (191, 0.0), (192, 0.0), (193, 0.0), (194, 0.0), (195, 0.0), (196, 0.0), (197, 0.0), (198, 0.0), (199, 0.0), (200, 0.38688661130829566), (201, 0.4999999999999999), (202, 0.0), (203, 0.0), (204, 0.30565352039237503), (205, 0.0), (206, 0.0), (207, 0.20382703548989403), (208, 0.0), (209, 0.0), (210, 0.0), (211, 0.0), (212, 0.0), (213, 0.0), (214, 0.0), (215, 0.27397546206455553), (216, 0.0), (217, 0.0), (218, 0.4999999999999999), (219, 0.5), (220, 0.0), (221, 0.0), (222, 0.0), (223, 0.0), (224, 0.0), (225, 0.18492213976542426), (226, 0.0), (227, 0.0), (228, 0.27397546206455553), (229, 0.0), (230, 0.0), (231, 0.0), (232, 0.30565352039237503), (233, 0.0), (234, 0.0), (235, 0.0), (236, 0.0), (237, 0.0), (238, 0.0), (239, 0.0), (240, 0.0), (241, 0.0), (242, 0.0), (243, 0.0), (244, 0.0), (245, 0.0), (246, 0.0), (247, 0.9999999999999998), (248, 0.0), (249, 0.38688661130829566), (250, 0.0), (251, 0.28629174245469174), (252, 0.0), (253, 0.20173444334924456), (254, 0.0), (255, 0.0), (256, 0.0), (257, 0.0), (258, 0.0), (259, 0.38688661130829566), (260, 0.0), (261, 0.0), (262, 0.0), (263, 0.0), (264, 0.0), (265, 0.0), (266, 0.0), (267, 0.0), (268, 0.0), (269, 0.0), (270, 0.0), (271, 0.33727417905835966), (272, 0.0), (273, 0.0), (274, 0.0), (275, 0.0), (276, 0.4999999999999999), (277, 0.0), (278, 0.0), (279, 0.0), (280, 0.0), (281, 0.0), (282, 0.20130246500678337), (283, 0.0), (284, 0.4999999999999999), (285, 0.0), (286, 0.3065501015557158), (287, 0.0), (288, 0.2631406242128161), (289, 0.27397546206455553), (290, 0.0), (291, 0.0), (292, 0.0), (293, 0.2631406242128161), (294, 0.0), (295, 0.0), (296, 0.0), (297, 0.0), (298, 0.0), (299, 0.0), (300, 0.30565352039237503), (301, 0.38688661130829566), (302, 0.4999999999999999), (303, 0.0), (304, 0.0), (305, 0.0), (306, 0.0), (307, 0.0), (308, 0.0), (309, 0.0), (310, 0.0), (311, 0.26920568841375814), (312, 0.0), (313, 0.7051347115127556), (314, 0.25097411522279317), (315, 0.15671225572399966), (316, 0.0), (317, 0.0), (318, 0.0), (319, 0.0), (320, 0.0), (321, 0.0), (322, 0.0), (323, 0.0), (324, 0.0), (325, 0.21373034697327564), (326, 0.0), (327, 0.0), (328, 0.0), (329, 0.4999999999999999), (330, 0.0), (331, 0.3065501015557158), (332, 0.0), (333, 0.0), (334, 0.0), (335, 0.4999999999999999), (336, 0.0), (337, 0.0), (338, 0.0), (339, 0.0), (340, 0.0), (341, 0.0), (342, 0.0), (343, 0.30495008792620504), (344, 0.0), (345, 0.0), (346, 0.4999999999999999), (347, 0.0), (348, 0.0), (349, 0.0), (350, 0.4999999999999999), (351, 0.0), (352, 0.0), (353, 0.0), (354, 0.23213854921611637), (355, 0.4999999999999999), (356, 0.0), (357, 0.0), (358, 0.0), (359, 0.0), (360, 0.0), (361, 0.0), (362, 0.18614220488544564), (363, 0.230809788107592), (364, 0.3065501015557158), (365, 0.16698606029577584), (366, 0.0), (367, 0.0), (368, 0.0), (369, 0.0), (370, 0.0), (371, 0.0), (372, 0.0), (373, 0.27397546206455553), (374, 0.0), (375, 0.0), (376, 0.0), (377, 0.0), (378, 0.0), (379, 0.30495008792620504), (380, 0.27397546206455553), (381, 0.21677675855332218), (382, 0.0), (383, 0.0), (384, 0.0), (385, 0.27397546206455553), (386, 0.0), (387, 0.0), (388, 0.0), (389, 0.0), (390, 0.0), (391, 0.0), (392, 0.20310950449970278), (393, 0.0), (394, 0.0), (395, 0.30565352039237503), (396, 0.0), (397, 0.0), (398, 0.0), (399, 0.0), (400, 0.29045940492148375), (401, 0.4999999999999999), (402, 0.0), (403, 0.3065501015557158), (404, 0.0), (405, 0.28629174245469174), (406, 0.0), (407, 0.0), (408, 0.0), (409, 0.0), (410, 0.0), (411, 0.0), (412, 0.0), (413, 0.27397546206455553), (414, 0.0), (415, 0.4999999999999999), (416, 0.0), (417, 0.0), (418, 0.0), (419, 0.0), (420, 0.0), (421, 0.4999999999999999), (422, 0.29524647854905417), (423, 0.0), (424, 0.0), (425, 0.0), (426, 0.0), (427, 0.30495008792620504), (428, 0.0), (429, 0.0), (430, 0.38688661130829566), (431, 0.0), (432, 0.0), (433, 0.18609831129795407), (434, 0.0), (435, 0.0), (436, 0.0), (437, 0.0), (438, 0.0), (439, 0.0), (440, 0.0), (441, 0.4999999999999999), (442, 0.0), (443, 0.0), (444, 0.0), (445, 0.0), (446, 0.0), (447, 0.14307949049874086), (448, 0.0), (449, 0.0), (450, 0.0), (451, 0.4999999999999999), (452, 0.0), (453, 0.0), (454, 0.2116388510940197), (455, 0.0), (456, 0.0), (457, 0.0), (458, 0.6286739773749026), (459, 0.0), (460, 0.0), (461, 0.38688661130829566), (462, 0.0), (463, 0.0), (464, 0.0), (465, 0.0), (466, 0.0), (467, 0.0), (468, 0.0), (469, 0.0), (470, 0.0), (471, 0.33727417905835966), (472, 0.0), (473, 0.0), (474, 0.20062465434998478), (475, 0.0), (476, 0.30495008792620504), (477, 0.0), (478, 0.20173444334924456), (479, 0.0), (480, 0.0), (481, 0.0), (482, 0.0), (483, 0.0), (484, 0.0), (485, 0.0), (486, 0.0), (487, 0.18850326369640868), (488, 0.0), (489, 0.0), (490, 0.4999999999999999), (491, 0.29524647854905417), (492, 0.0), (493, 0.0), (494, 0.0), (495, 0.0), (496, 0.25097411522279317), (497, 0.27397546206455553), (498, 0.0), (499, 0.38688661130829566), (500, 0.0), (501, 0.0), (502, 0.0), (503, 0.0), (504, 0.0), (505, 0.23213854921611637), (506, 0.0), (507, 0.0), (508, 0.0), (509, 0.0), (510, 0.3065501015557158), (511, 0.4999999999999999), (512, 0.0), (513, 0.0), (514, 0.0), (515, 0.0), (516, 0.0), (517, 0.0), (518, 0.0), (519, 0.0), (520, 0.24633715807101975), (521, 0.0), (522, 0.0), (523, 0.0), (524, 0.4999999999999999), (525, 0.0), (526, 0.0), (527, 0.2530062359134096), (528, 0.38688661130829566), (529, 0.0), (530, 0.0), (531, 0.0), (532, 0.0), (533, 0.25097411522279317), (534, 0.0), (535, 0.0), (536, 0.0), (537, 0.0), (538, 0.2530062359134096), (539, 0.0), (540, 0.0), (541, 0.0), (542, 0.0), (543, 0.0), (544, 0.0), (545, 0.0), (546, 0.4999999999999999), (547, 0.4999999999999999), (548, 0.0), (549, 0.0), (550, 0.0), (551, 0.0), (552, 0.194029764807868), (553, 0.0), (554, 0.0), (555, 0.0), (556, 0.15104358882412186), (557, 0.25097411522279317), (558, 0.30495008792620504), (559, 0.0), (560, 0.0), (561, 0.0), (562, 0.10186355272704602), (563, 0.0), (564, 0.0), (565, 0.38688661130829566), (566, 0.0), (567, 0.0), (568, 0.0), (569, 0.0), (570, 0.0), (571, 0.0), (572, 0.0), (573, 0.2530062359134096), (574, 0.0), (575, 0.0), (576, 0.0), (577, 0.0), (578, 0.4999999999999999), (579, 0.38688661130829566), (580, 0.26920568841375814), (581, 0.16434652797040647), (582, 0.0), (583, 0.0), (584, 0.0), (585, 0.0), (586, 0.0), (587, 0.0), (588, 0.0), (589, 0.0), (590, 0.15468692020011685), (591, 0.4999999999999999), (592, 0.0), (593, 0.0), (594, 0.4999999999999999), (595, 0.30495008792620504), (596, 0.0), (597, 0.0), (598, 0.143072726364237), (599, 0.0), (600, 0.0), (601, 0.0), (602, 0.0), (603, 0.0), (604, 0.0), (605, 0.0), (606, 0.0), (607, 0.0), (608, 0.0), (609, 0.0), (610, 0.0), (611, 0.0), (612, 0.16583806576734814), (613, 0.0), (614, 0.194029764807868), (615, 0.0), (616, 0.30565352039237503), (617, 0.0), (618, 0.33727417905835966), (619, 0.0), (620, 0.0), (621, 0.0), (622, 0.30565352039237503), (623, 0.29045940492148375), (624, 0.0), (625, 0.4999999999999999), (626, 0.0), (627, 0.0), (628, 0.4999999999999999), (629, 0.0), (630, 0.0), (631, 0.15773635662845084), (632, 0.4999999999999999), (633, 0.0), (634, 0.33727417905835966), (635, 0.0), (636, 0.28629174245469174), (637, 0.0), (638, 0.0), (639, 0.38688661130829566), (640, 0.29045940492148375), (641, 0.0), (642, 0.0), (643, 0.0), (644, 0.0), (645, 0.0), (646, 0.30565352039237503), (647, 0.0), (648, 0.12112042052389882), (649, 0.18609831129795407), (650, 0.0), (651, 0.15446745761027803), (652, 0.0), (653, 0.0), (654, 0.0), (655, 0.0), (656, 0.0), (657, 0.0), (658, 0.0), (659, 0.0), (660, 0.0), (661, 0.0), (662, 0.0), (663, 0.4999999999999999), (664, 0.0), (665, 0.0), (666, 0.0), (667, 0.0), (668, 0.0), (669, 0.0), (670, 0.0), (671, 0.0), (672, 0.25363864963787386), (673, 0.0), (674, 0.0), (675, 0.0), (676, 0.0), (677, 0.0), (678, 0.0), (679, 0.0), (680, 0.0), (681, 0.0), (682, 0.0), (683, 0.0), (684, 0.30565352039237503), (685, 0.0), (686, 0.4999999999999999), (687, 0.0), (688, 0.0), (689, 0.0), (690, 0.0), (691, 0.0), (692, 0.0), (693, 0.38688661130829566), (694, 0.0), (695, 0.30495008792620504), (696, 0.0), (697, 0.4999999999999999), (698, 0.4999999999999999), (699, 0.1706406104267505), (700, 0.0), (701, 0.0), (702, 0.0), (703, 0.0), (704, 0.0), (705, 0.0), (706, 0.0), (707, 0.0), (708, 0.0), (709, 0.0), (710, 0.0), (711, 0.0), (712, 0.22118780256781448), (713, 0.0), (714, 0.26559237856513546), (715, 0.0), (716, 0.0), (717, 0.0), (718, 0.0), (719, 0.0), (720, 0.0), (721, 0.30565352039237503), (722, 0.20570340667310336), (723, 0.0), (724, 0.0), (725, 0.0), (726, 0.15386732769574493), (727, 0.0), (728, 0.4999999999999999), (729, 0.0), (730, 0.0), (731, 0.0), (732, 0.0), (733, 0.38688661130829566), (734, 0.0), (735, 0.0), (736, 0.0), (737, 0.0), (738, 0.0), (739, 0.0), (740, 0.0), (741, 0.0), (742, 0.0), (743, 0.0), (744, 0.0), (745, 0.0), (746, 0.0), (747, 0.0), (748, 0.0), (749, 0.0), (750, 0.0), (751, 0.0), (752, 0.1523842861183423), (753, 0.0), (754, 0.0), (755, 0.0), (756, 0.0), (757, 0.211935807892234), (758, 0.181934200794991), (759, 0.0), (760, 0.211935807892234), (761, 0.0), (762, 0.4999999999999999), (763, 0.4999999999999999), (764, 0.0), (765, 0.0), (766, 0.0), (767, 0.0), (768, 0.1193559376352546), (769, 0.0), (770, 0.0), (771, 0.0), (772, 0.0), (773, 0.0), (774, 0.0), (775, 0.0), (776, 0.0), (777, 0.0), (778, 0.0), (779, 0.0), (780, 0.4999999999999999), (781, 0.0), (782, 0.0), (783, 0.25455704556706493), (784, 0.0), (785, 0.0), (786, 0.0), (787, 0.0), (788, 0.0), (789, 0.25455704556706493), (790, 0.4999999999999999), (791, 0.0), (792, 0.0), (793, 0.27397546206455553), (794, 0.4999999999999999), (795, 0.0), (796, 0.0), (797, 0.0), (798, 0.1882929995637167), (799, 0.0), (800, 0.0), (801, 0.4999999999999999), (802, 0.23187393223938224), (803, 0.0), (804, 0.0), (805, 0.0), (806, 0.0), (807, 0.0), (808, 0.0), (809, 0.0), (810, 0.22802301556906615), (811, 0.0), (812, 0.0), (813, 0.0), (814, 0.0), (815, 0.0), (816, 0.30565352039237503), (817, 0.4999999999999999), (818, 0.0), (819, 0.30495008792620504), (820, 0.0), (821, 0.21884210891981748), (822, 0.0), (823, 0.0), (824, 0.0), (825, 0.0), (826, 0.0), (827, 0.0), (828, 0.0), (829, 0.0), (830, 0.0), (831, 0.38688661130829566), (832, 0.0), (833, 0.0), (834, 0.0), (835, 0.0), (836, 0.0), (837, 0.27397546206455553), (838, 0.0), (839, 0.0), (840, 0.0), (841, 0.0), (842, 0.18094628517783884), (843, 0.3065501015557158), (844, 0.0), (845, 0.0), (846, 0.0), (847, 0.0), (848, 0.0), (849, 0.0), (850, 0.0), (851, 0.4999999999999999), (852, 0.0), (853, 0.0), (854, 0.18614220488544564), (855, 0.0), (856, 0.0), (857, 0.0), (858, 0.0), (859, 0.0), (860, 0.4999999999999999), (861, 0.0), (862, 0.0), (863, 0.33727417905835966), (864, 0.0), (865, 0.0), (866, 0.4999999999999999), (867, 0.0), (868, 0.4999999999999999), (869, 0.27397546206455553), (870, 0.0), (871, 0.27397546206455553), (872, 0.1373248244791414), (873, 0.0), (874, 0.0), (875, 0.0), (876, 0.0), (877, 0.0), (878, 0.0), (879, 0.0), (880, 0.0), (881, 0.0), (882, 0.3065501015557158), (883, 0.0), (884, 0.0), (885, 0.0), (886, 0.0), (887, 0.0), (888, 0.0), (889, 0.0), (890, 0.4999999999999999), (891, 0.4999999999999999), (892, 0.38688661130829566), (893, 0.0), (894, 0.0), (895, 0.4999999999999999), (896, 0.0), (897, 0.0), (898, 0.0), (899, 0.0), (900, 0.0), (901, 0.0), (902, 0.0), (903, 0.0), (904, 0.4999999999999999), (905, 0.0), (906, 0.0), (907, 0.0), (908, 0.0), (909, 0.0), (910, 0.0), (911, 0.30565352039237503), (912, 0.0), (913, 0.24166464995570225), (914, 0.38688661130829566), (915, 0.10383030080785714), (916, 0.21305784685839696), (917, 0.0), (918, 0.0), (919, 0.0), (920, 0.16080364250875678), (921, 0.0), (922, 0.3065501015557158), (923, 0.0), (924, 0.0), (925, 0.0), (926, 0.0), (927, 0.0), (928, 0.0), (929, 0.0), (930, 0.0), (931, 0.4999999999999999), (932, 0.0), (933, 0.0), (934, 0.38688661130829566), (935, 0.4999999999999999), (936, 0.0), (937, 0.0), (938, 0.0), (939, 0.0), (940, 0.0), (941, 0.0), (942, 0.4999999999999999), (943, 0.0), (944, 0.0), (945, 0.0), (946, 0.0), (947, 0.0), (948, 0.0), (949, 0.0), (950, 0.0), (951, 0.0), (952, 0.0), (953, 0.0), (954, 0.0), (955, 0.0), (956, 0.0), (957, 0.0), (958, 0.0), (959, 0.3065501015557158), (960, 0.0), (961, 0.0), (962, 0.0), (963, 0.0), (964, 0.0), (965, 0.0), (966, 0.0), (967, 0.27397546206455553), (968, 0.4999999999999999), (969, 0.0), (970, 0.0), (971, 0.0), (972, 0.0), (973, 0.0), (974, 0.0), (975, 0.0), (976, 0.0), (977, 0.3065501015557158), (978, 0.0), (979, 0.0), (980, 0.0), (981, 0.0), (982, 0.0), (983, 0.20601227888607807), (984, 0.0), (985, 0.4999999999999999), (986, 0.0), (987, 0.4999999999999999), (988, 0.0), (989, 0.0), (990, 0.27397546206455553), (991, 0.0), (992, 0.0), (993, 0.4999999999999999), (994, 0.0), (995, 0.25455704556706493), (996, 0.0), (997, 0.0), (998, 0.0), (999, 0.4999999999999999), (1000, 0.0), (1001, 0.0), (1002, 0.0), (1003, 0.0), (1004, 0.0), (1005, 0.38688661130829566), (1006, 0.0), (1007, 0.27397546206455553), (1008, 0.4999999999999999), (1009, 0.4999999999999999), (1010, 0.0), (1011, 0.14100590760456105), (1012, 0.26761445187478167), (1013, 0.16080364250875678), (1014, 0.0), (1015, 0.38688661130829566), (1016, 0.0), (1017, 0.0), (1018, 0.0), (1019, 0.0), (1020, 0.4999999999999999), (1021, 0.27397546206455553), (1022, 0.0), (1023, 0.0), (1024, 0.29045940492148375), (1025, 0.0), (1026, 0.0), (1027, 0.0), (1028, 0.0), (1029, 0.0), (1030, 0.4999999999999999), (1031, 0.0), (1032, 0.0), (1033, 0.18864101881675122), (1034, 0.38688661130829566), (1035, 0.0), (1036, 0.0), (1037, 0.0), (1038, 0.0), (1039, 0.17401953463993294), (1040, 0.0), (1041, 0.0), (1042, 0.0), (1043, 0.0), (1044, 0.0), (1045, 0.26559237856513546), (1046, 0.0), (1047, 0.0), (1048, 0.0), (1049, 0.0), (1050, 0.0), (1051, 0.0), (1052, 0.0), (1053, 0.0), (1054, 0.0), (1055, 0.38688661130829566), (1056, 0.1574447613100296), (1057, 0.0), (1058, 0.0), (1059, 0.24166464995570225), (1060, 0.0), (1061, 0.22330745696142487), (1062, 0.0), (1063, 0.22733936928115364), (1064, 0.0), (1065, 0.0), (1066, 0.0), (1067, 0.0), (1068, 0.0), (1069, 0.26559237856513546), (1070, 0.0), (1071, 0.0), (1072, 0.0), (1073, 0.0), (1074, 0.0), (1075, 0.0), (1076, 0.0), (1077, 0.0), (1078, 0.0), (1079, 0.0), (1080, 0.0), (1081, 0.0), (1082, 0.0), (1083, 0.0), (1084, 0.0), (1085, 0.0), (1086, 0.12198185137610938), (1087, 0.0), (1088, 0.0), (1089, 0.0), (1090, 0.0), (1091, 0.1324544612304801), (1092, 0.13412950339802282), (1093, 0.30495008792620504), (1094, 0.38688661130829566), (1095, 0.0), (1096, 0.0), (1097, 0.38688661130829566), (1098, 0.0), (1099, 0.0), (1100, 0.29045940492148375), (1101, 0.0), (1102, 0.0), (1103, 0.38688661130829566), (1104, 0.0), (1105, 0.0), (1106, 0.27397546206455553), (1107, 0.0), (1108, 0.0), (1109, 0.0), (1110, 0.0), (1111, 0.0), (1112, 0.0), (1113, 0.3065501015557158), (1114, 0.0), (1115, 0.0), (1116, 0.12817753435120693), (1117, 0.4999999999999999), (1118, 0.4999999999999999), (1119, 0.0), (1120, 0.6491000094075421), (1121, 0.0), (1122, 0.0), (1123, 0.0), (1124, 0.30495008792620504), (1125, 0.0), (1126, 0.25363864963787386), (1127, 0.38688661130829566), (1128, 0.0), (1129, 0.4999999999999999), (1130, 0.0), (1131, 0.20022335416985101), (1132, 0.0), (1133, 0.0), (1134, 0.0), (1135, 0.4999999999999999), (1136, 0.27397546206455553), (1137, 0.0), (1138, 0.38688661130829566), (1139, 0.0), (1140, 0.0), (1141, 0.0), (1142, 0.0), (1143, 0.0), (1144, 0.0), (1145, 0.0), (1146, 0.3065501015557158), (1147, 0.4999999999999999), (1148, 0.0), (1149, 0.0), (1150, 0.0), (1151, 0.0), (1152, 0.0), (1153, 0.4999999999999999), (1154, 0.33727417905835966), (1155, 0.0), (1156, 0.0), (1157, 0.0), (1158, 0.0), (1159, 0.0), (1160, 0.0), (1161, 0.0), (1162, 0.0), (1163, 0.0), (1164, 0.0), (1165, 0.0), (1166, 0.0), (1167, 0.0), (1168, 0.0), (1169, 0.0), (1170, 0.20796938478793517), (1171, 0.0), (1172, 0.38688661130829566), (1173, 0.0), (1174, 0.0), (1175, 0.0), (1176, 0.0), (1177, 0.0), (1178, 0.38688661130829566), (1179, 0.0), (1180, 0.0), (1181, 0.33727417905835966), (1182, 0.4999999999999999), (1183, 0.0), (1184, 0.0), (1185, 0.23933860024458029), (1186, 0.29524647854905417), (1187, 0.0), (1188, 0.0), (1189, 0.0), (1190, 0.0), (1191, 0.0), (1192, 0.0), (1193, 0.0), (1194, 0.0), (1195, 0.0), (1196, 0.0), (1197, 0.24166464995570225), (1198, 0.0), (1199, 0.0), (1200, 0.0), (1201, 0.14719410139314104), (1202, 0.0), (1203, 0.0), (1204, 0.12779076682234866), (1205, 0.26920568841375814), (1206, 0.4999999999999999), (1207, 0.4999999999999999), (1208, 0.0), (1209, 0.0), (1210, 0.38688661130829566), (1211, 0.0), (1212, 0.0), (1213, 0.4999999999999999), (1214, 0.0), (1215, 0.0), (1216, 0.0), (1217, 0.0), (1218, 0.0), (1219, 0.0), (1220, 0.0), (1221, 0.0), (1222, 0.27397546206455553), (1223, 0.0), (1224, 0.0), (1225, 0.0), (1226, 0.10383030080785714), (1227, 0.0), (1228, 0.0), (1229, 0.0), (1230, 0.0), (1231, 0.30495008792620504), (1232, 0.0), (1233, 0.3301902230902173), (1234, 0.0), (1235, 0.38688661130829566), (1236, 0.0), (1237, 0.0), (1238, 0.0), (1239, 0.4999999999999999), (1240, 0.0), (1241, 0.0), (1242, 0.0), (1243, 0.25097411522279317), (1244, 0.0), (1245, 0.0), (1246, 0.0), (1247, 0.30495008792620504), (1248, 0.0), (1249, 0.0), (1250, 0.1079277146815322), (1251, 0.0), (1252, 0.0), (1253, 0.0), (1254, 0.0), (1255, 0.0), (1256, 0.0), (1257, 0.23187393223938224), (1258, 0.0), (1259, 0.0), (1260, 0.0), (1261, 0.0), (1262, 0.0), (1263, 0.0), (1264, 0.0), (1265, 0.0), (1266, 0.0), (1267, 0.0), (1268, 0.18864101881675122), (1269, 0.0), (1270, 0.0), (1271, 0.2530062359134096), (1272, 0.14469914309209347), (1273, 0.23291964991872402), (1274, 0.0), (1275, 0.33727417905835966), (1276, 0.0), (1277, 0.0), (1278, 0.0), (1279, 0.0), (1280, 0.0), (1281, 0.4999999999999999), (1282, 0.0), (1283, 0.3065501015557158), (1284, 0.0), (1285, 0.0), (1286, 0.0), (1287, 0.0), (1288, 0.0), (1289, 0.0), (1290, 0.0), (1291, 0.0), (1292, 0.0), (1293, 0.0), (1294, 0.4999999999999999), (1295, 0.0), (1296, 0.4999999999999999), (1297, 0.0), (1298, 0.0), (1299, 0.26761445187478167), (1300, 0.0), (1301, 0.0), (1302, 0.0), (1303, 0.0), (1304, 0.0), (1305, 0.0), (1306, 0.0), (1307, 0.0), (1308, 0.0), (1309, 0.0), (1310, 0.0), (1311, 0.0), (1312, 0.0), (1313, 0.0), (1314, 0.0), (1315, 0.0), (1316, 0.0), (1317, 0.0), (1318, 0.0), (1319, 0.0), (1320, 0.17022191700110934), (1321, 0.4999999999999999), (1322, 0.0), (1323, 0.4999999999999999), (1324, 0.0), (1325, 0.0), (1326, 0.0), (1327, 0.0), (1328, 0.0), (1329, 0.0), (1330, 0.0), (1331, 0.0), (1332, 0.25455704556706493), (1333, 0.3065501015557158), (1334, 0.25455704556706493), (1335, 0.27397546206455553), (1336, 0.0), (1337, 0.4999999999999999), (1338, 0.14670546299792636), (1339, 0.15468138402551815), (1340, 0.0), (1341, 0.0), (1342, 0.0), (1343, 0.15468138402551815), (1344, 0.0), (1345, 0.0), (1346, 0.33727417905835966), (1347, 0.0), (1348, 0.27397546206455553), (1349, 0.0), (1350, 0.0), (1351, 0.0), (1352, 0.0), (1353, 0.0), (1354, 0.25455704556706493), (1355, 0.0), (1356, 0.0), (1357, 0.0), (1358, 0.0), (1359, 0.38688661130829566), (1360, 0.4999999999999999), (1361, 0.1113103822197039), (1362, 0.0), (1363, 0.0), (1364, 0.0), (1365, 0.0), (1366, 0.17045677647435709), (1367, 0.0), (1368, 0.20129248006335046), (1369, 0.0), (1370, 0.0), (1371, 0.0), (1372, 0.0), (1373, 0.0), (1374, 0.0), (1375, 0.38688661130829566), (1376, 0.27397546206455553), (1377, 0.0), (1378, 0.0), (1379, 0.0), (1380, 0.0), (1381, 0.0), (1382, 0.0), (1383, 0.29045940492148375), (1384, 0.0), (1385, 0.0), (1386, 0.38688661130829566), (1387, 0.0), (1388, 0.0), (1389, 0.3065501015557158), (1390, 0.0), (1391, 0.25455704556706493), (1392, 0.0), (1393, 0.0), (1394, 0.0), (1395, 0.0), (1396, 0.0), (1397, 0.23291964991872402), (1398, 0.24259597927691326), (1399, 0.0), (1400, 0.0), (1401, 0.0), (1402, 0.0), (1403, 0.0), (1404, 0.0), (1405, 0.0), (1406, 0.0), (1407, 0.0), (1408, 0.0), (1409, 0.0), (1410, 0.0), (1411, 0.0), (1412, 0.0), (1413, 0.0), (1414, 0.0), (1415, 0.0), (1416, 0.0), (1417, 0.0), (1418, 0.0), (1419, 0.0), (1420, 0.0), (1421, 0.4999999999999999), (1422, 0.0), (1423, 0.4999999999999999), (1424, 0.4999999999999999), (1425, 0.0), (1426, 0.0), (1427, 0.0), (1428, 0.0), (1429, 0.22330745696142487), (1430, 0.0), (1431, 0.0), (1432, 0.0), (1433, 0.25363864963787386), (1434, 0.0), (1435, 0.0), (1436, 0.0), (1437, 0.38688661130829566), (1438, 0.4999999999999999), (1439, 0.38688661130829566), (1440, 0.0), (1441, 0.38688661130829566), (1442, 0.16223332929773027), (1443, 0.0), (1444, 0.0), (1445, 0.0), (1446, 0.0), (1447, 0.0), (1448, 0.0), (1449, 0.0), (1450, 0.0), (1451, 0.0), (1452, 0.0), (1453, 0.0), (1454, 0.3065501015557158), (1455, 0.4999999999999999), (1456, 0.0), (1457, 0.3065501015557158), (1458, 0.0), (1459, 0.4999999999999999), (1460, 0.4999999999999999), (1461, 0.2303756647837507), (1462, 0.0), (1463, 0.21778661262708018), (1464, 0.0), (1465, 0.0), (1466, 0.0), (1467, 0.0), (1468, 0.0), (1469, 0.0), (1470, 0.0), (1471, 0.0), (1472, 0.0), (1473, 0.0), (1474, 0.0), (1475, 0.0), (1476, 0.0), (1477, 0.38688661130829566), (1478, 0.0), (1479, 0.0), (1480, 0.4999999999999999), (1481, 0.18492213976542426), (1482, 0.2540429640450034), (1483, 0.12437039103847983), (1484, 0.0), (1485, 0.0), (1486, 0.0), (1487, 0.3301902230902173), (1488, 0.0), (1489, 0.3065501015557158), (1490, 0.0), (1491, 0.0), (1492, 0.0), (1493, 0.0), (1494, 0.0), (1495, 0.0), (1496, 0.0), (1497, 0.0), (1498, 0.0), (1499, 0.4999999999999999), (1500, 0.0), (1501, 0.3065501015557158), (1502, 0.18924769897905483), (1503, 0.0), (1504, 0.27397546206455553), (1505, 0.27397546206455553), (1506, 0.0), (1507, 0.0), (1508, 0.0), (1509, 0.0), (1510, 0.0), (1511, 0.0), (1512, 0.0), (1513, 0.0), (1514, 0.0), (1515, 0.0), (1516, 0.0), (1517, 0.2631406242128161), (1518, 0.0), (1519, 0.0), (1520, 0.0), (1521, 0.16080364250875678), (1522, 0.0), (1523, 0.0), (1524, 0.0), (1525, 0.0), (1526, 0.0), (1527, 0.0), (1528, 0.0), (1529, 0.0), (1530, 0.0), (1531, 0.0), (1532, 0.0), (1533, 0.4999999999999999), (1534, 0.0), (1535, 0.4999999999999999), (1536, 0.0), (1537, 0.0), (1538, 0.0), (1539, 0.4999999999999999), (1540, 0.3065501015557158), (1541, 0.4999999999999999), (1542, 0.0), (1543, 0.3065501015557158), (1544, 0.4999999999999999), (1545, 0.0), (1546, 0.0), (1547, 0.0), (1548, 0.3065501015557158), (1549, 0.3065501015557158), (1550, 0.3065501015557158), (1551, 0.0), (1552, 0.3065501015557158), (1553, 0.0), (1554, 0.13877002561698787), (1555, 0.4999999999999999), (1556, 0.0), (1557, 0.0), (1558, 0.3065501015557158), (1559, 0.0), (1560, 0.38688661130829566), (1561, 0.0), (1562, 0.30565352039237503), (1563, 0.0), (1564, 0.2451162089838561), (1565, 0.0), (1566, 0.0), (1567, 0.38688661130829566), (1568, 0.3065501015557158), (1569, 0.0), (1570, 0.4999999999999999), (1571, 0.0), (1572, 0.17259503898859552), (1573, 0.0), (1574, 0.0), (1575, 0.4999999999999999), (1576, 0.0), (1577, 0.27397546206455553), (1578, 0.0), (1579, 0.38688661130829566), (1580, 0.0), (1581, 0.0), (1582, 0.0), (1583, 0.0), (1584, 0.27397546206455553), (1585, 0.0), (1586, 0.0), (1587, 0.0), (1588, 0.0), (1589, 0.5), (1590, 0.0), (1591, 0.0), (1592, 0.0), (1593, 0.0), (1594, 0.0), (1595, 0.0), (1596, 0.14859729057812915), (1597, 0.27397546206455553), (1598, 0.0), (1599, 0.0), (1600, 0.0), (1601, 0.0), (1602, 0.0), (1603, 0.0), (1604, 0.0), (1605, 0.0), (1606, 0.0), (1607, 0.0), (1608, 0.0), (1609, 0.0), (1610, 0.0), (1611, 0.0), (1612, 0.0), (1613, 0.0), (1614, 0.0), (1615, 0.4999999999999999), (1616, 0.4999999999999999), (1617, 0.0), (1618, 0.0), (1619, 0.0), (1620, 0.0), (1621, 0.0), (1622, 0.38688661130829566), (1623, 0.21677675855332218), (1624, 0.4999999999999999), (1625, 0.3065501015557158), (1626, 0.0), (1627, 0.2349650296640092), (1628, 0.0), (1629, 0.0), (1630, 0.33727417905835966), (1631, 0.33727417905835966), (1632, 0.0), (1633, 0.0), (1634, 0.27397546206455553), (1635, 0.0), (1636, 0.29524647854905417), (1637, 0.29524647854905417), (1638, 0.0), (1639, 0.0), (1640, 0.3065501015557158), (1641, 0.4999999999999999), (1642, 0.0), (1643, 0.4999999999999999), (1644, 0.0), (1645, 0.20173444334924456), (1646, 0.30495008792620504), (1647, 0.12562496029110556), (1648, 0.0), (1649, 0.0), (1650, 0.0), (1651, 0.0), (1652, 0.0), (1653, 0.0), (1654, 0.0), (1655, 0.4999999999999999), (1656, 0.0), (1657, 0.0), (1658, 0.0), (1659, 0.0), (1660, 0.4999999999999999), (1661, 0.3065501015557158), (1662, 0.4999999999999999), (1663, 0.4999999999999999), (1664, 0.0), (1665, 0.0), (1666, 0.0), (1667, 0.0), (1668, 0.0), (1669, 0.0), (1670, 0.0), (1671, 0.0), (1672, 0.20382703548989403), (1673, 0.38688661130829566), (1674, 0.29045940492148375), (1675, 0.0), (1676, 0.0), (1677, 0.0), (1678, 0.0), (1679, 0.0), (1680, 0.0), (1681, 0.0), (1682, 0.33727417905835966), (1683, 0.30565352039237503), (1684, 0.0), (1685, 0.0), (1686, 0.0), (1687, 0.0), (1688, 0.4999999999999999), (1689, 0.0), (1690, 0.0), (1691, 0.4999999999999999), (1692, 0.4999999999999999), (1693, 0.4999999999999999), (1694, 0.0), (1695, 0.0), (1696, 0.0), (1697, 0.0), (1698, 0.0), (1699, 0.0), (1700, 0.0), (1701, 0.0), (1702, 0.0), (1703, 0.0), (1704, 0.0), (1705, 0.0), (1706, 0.0), (1707, 0.0), (1708, 0.0), (1709, 0.27397546206455553), (1710, 0.0), (1711, 0.0), (1712, 0.0), (1713, 0.0), (1714, 0.3065501015557158), (1715, 0.0), (1716, 0.25455704556706493), (1717, 0.0), (1718, 0.0), (1719, 0.38688661130829566), (1720, 0.0), (1721, 0.0), (1722, 0.0), (1723, 0.0), (1724, 0.1855952263309688), (1725, 0.2540429640450034), (1726, 0.0), (1727, 0.0), (1728, 0.0), (1729, 0.38688661130829566), (1730, 0.0), (1731, 0.0), (1732, 0.4999999999999999), (1733, 0.0), (1734, 0.0), (1735, 0.0), (1736, 0.0), (1737, 0.0), (1738, 0.0), (1739, 0.22029914715272902), (1740, 0.0), (1741, 0.3065501015557158), (1742, 0.0), (1743, 0.0), (1744, 0.0), (1745, 0.0), (1746, 0.0), (1747, 0.0), (1748, 0.0), (1749, 0.0), (1750, 0.0), (1751, 0.0), (1752, 0.0), (1753, 0.0), (1754, 0.1352258492835093), (1755, 0.0), (1756, 0.0), (1757, 0.0), (1758, 0.18614220488544564), (1759, 0.0), (1760, 0.0), (1761, 0.0), (1762, 0.4999999999999999), (1763, 0.21555101036366114), (1764, 0.5), (1765, 0.1733801978372286), (1766, 0.18765402486369046), (1767, 0.0), (1768, 0.4999999999999999), (1769, 0.19591831817254518), (1770, 0.0), (1771, 0.12607065029143677), (1772, 0.26559237856513546), (1773, 0.38688661130829566), (1774, 0.0), (1775, 0.0), (1776, 0.23991930293213928), (1777, 0.4999999999999999), (1778, 0.0), (1779, 0.0), (1780, 0.0), (1781, 0.0), (1782, 0.0), (1783, 0.0), (1784, 0.0), (1785, 0.4999999999999999), (1786, 0.4999999999999999), (1787, 0.0), (1788, 0.4999999999999999), (1789, 0.0), (1790, 0.0), (1791, 0.0), (1792, 0.0), (1793, 0.0), (1794, 0.0), (1795, 0.0), (1796, 0.12577324822590774), (1797, 0.0), (1798, 0.27397546206455553), (1799, 0.0), (1800, 0.0), (1801, 0.4999999999999999), (1802, 0.23187393223938224), (1803, 0.0), (1804, 0.0), (1805, 0.0), (1806, 0.0), (1807, 0.0), (1808, 0.0), (1809, 0.0), (1810, 0.0), (1811, 0.0), (1812, 0.0), (1813, 0.0), (1814, 0.0), (1815, 0.3065501015557158), (1816, 0.30565352039237503), (1817, 0.0), (1818, 0.0), (1819, 0.0), (1820, 0.1935463228963464), (1821, 0.4999999999999999), (1822, 0.0), (1823, 0.0), (1824, 0.0), (1825, 0.30495008792620504), (1826, 0.0), (1827, 0.38688661130829566), (1828, 0.0), (1829, 0.0), (1830, 0.0), (1831, 0.0), (1832, 0.0), (1833, 0.0), (1834, 0.3301902230902173), (1835, 0.0), (1836, 0.0), (1837, 0.0), (1838, 0.0), (1839, 0.0), (1840, 0.0), (1841, 0.27397546206455553), (1842, 0.0), (1843, 0.4999999999999999), (1844, 0.0), (1845, 0.0), (1846, 0.33727417905835966), (1847, 0.33727417905835966), (1848, 0.1392203508843993), (1849, 0.0), (1850, 0.0), (1851, 0.0), (1852, 0.4999999999999999), (1853, 0.0), (1854, 0.0), (1855, 0.0), (1856, 0.0), (1857, 0.0), (1858, 0.0), (1859, 0.4999999999999999), (1860, 0.0), (1861, 0.0), (1862, 0.0), (1863, 0.0), (1864, 0.0), (1865, 0.0), (1866, 0.38688661130829566), (1867, 0.0), (1868, 0.0), (1869, 0.4999999999999999), (1870, 0.0), (1871, 0.0), (1872, 0.0), (1873, 0.0), (1874, 0.0), (1875, 0.0), (1876, 0.16742962235832431), (1877, 0.0), (1878, 0.0), (1879, 0.21590647838262206), (1880, 0.0), (1881, 0.0), (1882, 0.0), (1883, 0.30565352039237503), (1884, 0.0), (1885, 0.0), (1886, 0.0), (1887, 0.0), (1888, 0.0), (1889, 0.0), (1890, 0.0), (1891, 0.0), (1892, 0.0), (1893, 0.2530062359134096), (1894, 0.38688661130829566), (1895, 0.0), (1896, 0.0), (1897, 0.0), (1898, 0.4999999999999999), (1899, 0.38688661130829566), (1900, 0.2540429640450034), (1901, 0.0), (1902, 0.0), (1903, 0.0), (1904, 0.0), (1905, 0.0), (1906, 0.0), (1907, 0.0), (1908, 0.0), (1909, 0.38688661130829566), (1910, 0.15714148107090412), (1911, 0.0), (1912, 0.0), (1913, 0.0), (1914, 0.0), (1915, 0.0), (1916, 0.0), (1917, 0.33727417905835966), (1918, 0.0), (1919, 0.1973677684489606), (1920, 0.0), (1921, 0.0), (1922, 0.27397546206455553), (1923, 0.0), (1924, 0.19184255189824617), (1925, 0.0), (1926, 0.21778661262708018), (1927, 0.38688661130829566), (1928, 0.0), (1929, 0.0), (1930, 0.1842058157584377), (1931, 0.0), (1932, 0.0), (1933, 0.0), (1934, 0.3065501015557158), (1935, 0.33727417905835966), (1936, 0.0), (1937, 0.1474984108041797), (1938, 0.0), (1939, 0.38688661130829566), (1940, 0.0), (1941, 0.0), (1942, 0.0), (1943, 0.12922545505612992), (1944, 0.0), (1945, 0.0), (1946, 0.38688661130829566), (1947, 0.0), (1948, 0.0), (1949, 0.4999999999999999), (1950, 0.0), (1951, 0.0), (1952, 0.0), (1953, 0.0), (1954, 0.0), (1955, 0.0), (1956, 0.0), (1957, 0.16182969958568025), (1958, 0.0), (1959, 0.0), (1960, 0.0), (1961, 0.0), (1962, 0.0), (1963, 0.4999999999999999), (1964, 0.0), (1965, 0.16611290946912755), (1966, 0.0), (1967, 0.0), (1968, 0.27397546206455553), (1969, 0.0), (1970, 0.0), (1971, 0.4999999999999999), (1972, 0.0), (1973, 0.0), (1974, 0.4999999999999999), (1975, 0.27397546206455553), (1976, 0.30565352039237503), (1977, 0.0), (1978, 0.2631406242128161), (1979, 0.0), (1980, 0.0), (1981, 0.25455704556706493), (1982, 0.0), (1983, 0.0), (1984, 0.0), (1985, 0.1704609876628558), (1986, 0.0), (1987, 0.21778661262708018), (1988, 0.13912448417218806), (1989, 0.0), (1990, 0.0), (1991, 0.0), (1992, 0.0), (1993, 0.0), (1994, 0.0), (1995, 0.28629174245469174), (1996, 0.3065501015557158), (1997, 0.1804472866243177), (1998, 0.0), (1999, 0.3065501015557158), (2000, 0.0), (2001, 0.0), (2002, 0.4999999999999999), (2003, 0.19843460196889398), (2004, 0.18632263120890963), (2005, 0.4999999999999999), (2006, 0.0), (2007, 0.0), (2008, 0.0), (2009, 0.21778661262708018), (2010, 0.0), (2011, 0.0), (2012, 0.0), (2013, 0.0), (2014, 0.0), (2015, 0.0), (2016, 0.0), (2017, 0.0), (2018, 0.0), (2019, 0.1625876504184246), (2020, 0.0), (2021, 0.0), (2022, 0.0), (2023, 0.0), (2024, 0.0), (2025, 0.0), (2026, 0.0), (2027, 0.0), (2028, 0.0), (2029, 0.0), (2030, 0.0), (2031, 0.0), (2032, 0.0), (2033, 0.0), (2034, 0.19843460196889398), (2035, 0.0), (2036, 0.0), (2037, 0.0), (2038, 0.33727417905835966), (2039, 0.0), (2040, 0.19684294597678706), (2041, 0.0), (2042, 0.30565352039237503), (2043, 0.14996289048375794), (2044, 0.0), (2045, 0.27397546206455553), (2046, 0.2303756647837507), (2047, 0.0), (2048, 0.0), (2049, 0.0), (2050, 0.0), (2051, 0.0), (2052, 0.18061554508601724), (2053, 0.0), (2054, 0.0), (2055, 0.0), (2056, 0.0), (2057, 0.0), (2058, 0.0), (2059, 0.0), (2060, 0.22733936928115364), (2061, 0.4999999999999999), (2062, 0.0), (2063, 0.0), (2064, 0.0), (2065, 0.0), (2066, 0.0), (2067, 0.0), (2068, 0.20022335416985101), (2069, 0.0), (2070, 0.0), (2071, 0.0), (2072, 0.4999999999999999), (2073, 0.27333483768412536), (2074, 0.4999999999999999), (2075, 0.1807613682554354), (2076, 0.0), (2077, 0.0), (2078, 0.0), (2079, 0.0), (2080, 0.0), (2081, 0.0), (2082, 0.0), (2083, 0.0), (2084, 0.0), (2085, 0.0), (2086, 0.0), (2087, 0.0), (2088, 0.0), (2089, 0.0), (2090, 0.38688661130829566), (2091, 0.3065501015557158), (2092, 0.27397546206455553), (2093, 0.0), (2094, 0.0), (2095, 0.0), (2096, 0.0), (2097, 0.27397546206455553), (2098, 0.4999999999999999), (2099, 0.0), (2100, 0.0), (2101, 0.33727417905835966), (2102, 0.0), (2103, 0.0), (2104, 0.0), (2105, 0.0), (2106, 0.0), (2107, 0.30565352039237503), (2108, 0.0), (2109, 0.0), (2110, 0.0), (2111, 0.4999999999999999), (2112, 0.0), (2113, 0.0), (2114, 0.0), (2115, 0.28629174245469174), (2116, 0.4999999999999999), (2117, 0.4999999999999999), (2118, 0.3065501015557158), (2119, 0.0), (2120, 0.0), (2121, 0.0), (2122, 0.0), (2123, 0.0), (2124, 0.4999999999999999), (2125, 0.0), (2126, 0.0), (2127, 0.0), (2128, 0.0), (2129, 0.0), (2130, 0.0), (2131, 0.0), (2132, 0.0), (2133, 0.0), (2134, 0.0), (2135, 0.1654640177431437), (2136, 0.0), (2137, 0.0), (2138, 0.0), (2139, 0.0), (2140, 0.0), (2141, 0.0), (2142, 0.3065501015557158), (2143, 0.0), (2144, 0.0), (2145, 0.4999999999999999), (2146, 0.0), (2147, 0.4999999999999999), (2148, 0.0), (2149, 0.0), (2150, 0.0), (2151, 0.0), (2152, 0.0), (2153, 0.16846303043333802), (2154, 0.0), (2155, 0.25455704556706493), (2156, 0.0), (2157, 0.0), (2158, 0.1855952263309688), (2159, 0.0), (2160, 0.4999999999999999), (2161, 0.0), (2162, 0.0), (2163, 0.33727417905835966), (2164, 0.23496502966400926), (2165, 0.0), (2166, 0.3065501015557158), (2167, 0.0), (2168, 0.0), (2169, 0.0), (2170, 0.0), (2171, 0.0), (2172, 0.0), (2173, 0.4999999999999999), (2174, 0.25363864963787386), (2175, 0.0), (2176, 0.0), (2177, 0.38688661130829566), (2178, 0.29524647854905417), (2179, 0.4999999999999999), (2180, 0.0), (2181, 0.0), (2182, 0.38688661130829566), (2183, 0.0), (2184, 0.0), (2185, 0.0), (2186, 0.0), (2187, 0.0), (2188, 0.0), (2189, 0.12779076682234866), (2190, 0.0), (2191, 0.0), (2192, 0.0), (2193, 0.1193559376352546), (2194, 0.0), (2195, 0.0), (2196, 0.21373034697327564), (2197, 0.4999999999999999), (2198, 0.0), (2199, 0.0), (2200, 0.0), (2201, 0.0), (2202, 0.18135840770960077), (2203, 0.0), (2204, 0.0), (2205, 0.0), (2206, 0.0), (2207, 0.0), (2208, 0.0), (2209, 0.0), (2210, 0.0), (2211, 0.0), (2212, 0.3065501015557158), (2213, 0.0), (2214, 0.4999999999999999), (2215, 0.0), (2216, 0.0), (2217, 0.0), (2218, 0.0), (2219, 0.194029764807868), (2220, 0.0), (2221, 0.30565352039237503), (2222, 0.38688661130829566), (2223, 0.0), (2224, 0.0), (2225, 0.0), (2226, 0.0), (2227, 0.0), (2228, 0.0), (2229, 0.0), (2230, 0.0), (2231, 0.0), (2232, 0.0), (2233, 0.0), (2234, 0.0), (2235, 0.0), (2236, 0.16693496212605224), (2237, 0.0), (2238, 0.4999999999999999), (2239, 0.0), (2240, 0.2116388510940197), (2241, 0.0), (2242, 0.21622364601852773), (2243, 0.38688661130829566), (2244, 0.0), (2245, 0.38688661130829566), (2246, 0.0), (2247, 0.0), (2248, 0.0), (2249, 0.0), (2250, 0.1293835123484869), (2251, 0.0), (2252, 0.21778661262708018), (2253, 0.4999999999999999), (2254, 0.4999999999999999), (2255, 0.0), (2256, 0.0), (2257, 0.0), (2258, 0.0), (2259, 0.3065501015557158), (2260, 0.0), (2261, 0.3065501015557158), (2262, 0.0), (2263, 0.4999999999999999), (2264, 0.0), (2265, 0.30495008792620504), (2266, 0.15714148107090412), (2267, 0.33727417905835966), (2268, 0.20513471151275575), (2269, 0.1621000144745049), (2270, 0.0), (2271, 0.0), (2272, 0.0), (2273, 0.0), (2274, 0.0), (2275, 0.0), (2276, 0.0), (2277, 0.0), (2278, 0.0), (2279, 0.4999999999999999), (2280, 0.4999999999999999), (2281, 0.0), (2282, 0.28629174245469174), (2283, 0.0), (2284, 0.0), (2285, 0.0), (2286, 0.0), (2287, 0.0), (2288, 0.38688661130829566), (2289, 0.0), (2290, 0.4999999999999999), (2291, 0.0), (2292, 0.4999999999999999), (2293, 0.0), (2294, 0.12001891654839064), (2295, 0.0), (2296, 0.0), (2297, 0.0), (2298, 0.4999999999999999), (2299, 0.0), (2300, 0.0), (2301, 0.0), (2302, 0.0), (2303, 0.0), (2304, 0.3065501015557158), (2305, 0.0), (2306, 0.0), (2307, 0.0), (2308, 0.3065501015557158), (2309, 0.0), (2310, 0.0), (2311, 0.4999999999999999), (2312, 0.0), (2313, 0.0), (2314, 0.0), (2315, 0.2116388510940197), (2316, 0.0), (2317, 0.4999999999999999), (2318, 0.3065501015557158), (2319, 0.0), (2320, 0.0), (2321, 0.0), (2322, 0.0), (2323, 0.0), (2324, 0.4999999999999999), (2325, 0.0), (2326, 0.0), (2327, 0.30495008792620504), (2328, 0.0), (2329, 0.0), (2330, 0.0), (2331, 0.0), (2332, 0.0), (2333, 0.4999999999999999), (2334, 0.0), (2335, 0.0), (2336, 0.4999999999999999), (2337, 0.38688661130829566), (2338, 0.0), (2339, 0.0), (2340, 0.1399710129120906), (2341, 0.26920568841375814), (2342, 0.0), (2343, 0.0), (2344, 0.0), (2345, 0.0), (2346, 0.0), (2347, 0.4999999999999999), (2348, 0.0), (2349, 0.0), (2350, 0.0), (2351, 0.0), (2352, 0.0), (2353, 0.4999999999999999), (2354, 0.0), (2355, 0.0), (2356, 0.0), (2357, 0.0), (2358, 0.0), (2359, 0.0), (2360, 0.0), (2361, 0.4999999999999999), (2362, 0.0), (2363, 0.0), (2364, 0.0), (2365, 0.0), (2366, 0.0), (2367, 0.0), (2368, 0.0), (2369, 0.0), (2370, 0.0), (2371, 0.4999999999999999), (2372, 0.0), (2373, 0.211935807892234), (2374, 0.0), (2375, 0.0), (2376, 0.0), (2377, 0.0), (2378, 0.0), (2379, 0.4999999999999999), (2380, 0.24166464995570225), (2381, 0.0), (2382, 0.186517856201412), (2383, 0.0), (2384, 0.0), (2385, 0.0), (2386, 0.0), (2387, 0.0), (2388, 0.16438999224224596), (2389, 0.27397546206455553), (2390, 0.3065501015557158), (2391, 0.3065501015557158), (2392, 0.0), (2393, 0.4999999999999999), (2394, 0.0), (2395, 0.16182969958568025), (2396, 0.0), (2397, 0.0), (2398, 0.30495008792620504), (2399, 0.0), (2400, 0.0), (2401, 0.2349650296640092), (2402, 0.0), (2403, 0.0), (2404, 0.38688661130829566), (2405, 0.0), (2406, 0.4999999999999999), (2407, 0.0), (2408, 0.0), (2409, 0.0), (2410, 0.4999999999999999), (2411, 0.38688661130829566), (2412, 0.0), (2413, 0.0), (2414, 0.0), (2415, 0.28629174245469174), (2416, 0.0), (2417, 0.0), (2418, 0.0), (2419, 0.38688661130829566), (2420, 0.0), (2421, 0.0), (2422, 0.20379887415354495), (2423, 0.2060160121278125), (2424, 0.22546091339709604), (2425, 0.4999999999999999), (2426, 0.21778661262708018), (2427, 0.0), (2428, 0.0), (2429, 0.2530062359134096), (2430, 0.0), (2431, 0.0), (2432, 0.0), (2433, 0.0), (2434, 0.24166464995570225), (2435, 0.0), (2436, 0.0), (2437, 0.0), (2438, 0.0), (2439, 0.0), (2440, 0.0), (2441, 0.27397546206455553), (2442, 0.0), (2443, 0.0), (2444, 0.27397546206455553), (2445, 0.0), (2446, 0.0), (2447, 0.0), (2448, 0.15168248673685558), (2449, 0.0), (2450, 0.0), (2451, 0.194029764807868), (2452, 0.0), (2453, 0.0), (2454, 0.25455704556706493), (2455, 0.0), (2456, 0.2631406242128161), (2457, 0.0), (2458, 0.0), (2459, 0.0), (2460, 0.1336926543270638), (2461, 0.0), (2462, 0.2337437939221848), (2463, 0.14629888304371386), (2464, 0.0), (2465, 0.0), (2466, 0.0), (2467, 0.0), (2468, 0.0), (2469, 0.24355961259609826), (2470, 0.0), (2471, 0.0), (2472, 0.0), (2473, 0.0), (2474, 0.2067679033266678), (2475, 0.14508546309490605), (2476, 0.4999999999999999), (2477, 0.29524647854905417), (2478, 0.0), (2479, 0.0), (2480, 0.0), (2481, 0.0), (2482, 0.0), (2483, 0.3065501015557158), (2484, 0.0), (2485, 0.0), (2486, 0.15735271323870345), (2487, 0.0), (2488, 0.4999999999999999), (2489, 0.4999999999999999), (2490, 0.0), (2491, 0.0), (2492, 0.0), (2493, 0.0), (2494, 0.0), (2495, 0.30565352039237503), (2496, 0.4999999999999999), (2497, 0.0), (2498, 0.0), (2499, 0.0), (2500, 0.0), (2501, 0.0), (2502, 0.1802433318205355), (2503, 0.0), (2504, 0.0), (2505, 0.0), (2506, 0.0), (2507, 0.194029764807868), (2508, 0.0), (2509, 0.0), (2510, 0.0), (2511, 0.0), (2512, 0.4999999999999999), (2513, 0.0), (2514, 0.0), (2515, 0.0), (2516, 0.4999999999999999), (2517, 0.0), (2518, 0.0), (2519, 0.0), (2520, 0.0), (2521, 0.0), (2522, 0.0), (2523, 0.0), (2524, 0.33727417905835966), (2525, 0.0), (2526, 0.0), (2527, 0.0), (2528, 0.0), (2529, 0.30495008792620504), (2530, 0.0), (2531, 0.38688661130829566), (2532, 0.33727417905835966), (2533, 0.0), (2534, 0.0), (2535, 0.0), (2536, 0.0), (2537, 0.1492051517445626), (2538, 0.0), (2539, 0.4999999999999999), (2540, 0.30565352039237503), (2541, 0.0), (2542, 0.0), (2543, 0.0), (2544, 0.0), (2545, 0.0), (2546, 0.0), (2547, 0.0), (2548, 0.21362026788966149), (2549, 0.0), (2550, 0.0), (2551, 0.0), (2552, 0.0), (2553, 0.25097411522279317), (2554, 0.0), (2555, 0.0), (2556, 0.0), (2557, 0.0), (2558, 0.4999999999999999), (2559, 0.0), (2560, 0.4999999999999999), (2561, 0.4999999999999999), (2562, 0.4999999999999999), (2563, 0.0), (2564, 0.0), (2565, 0.0), (2566, 0.0), (2567, 0.0), (2568, 0.0), (2569, 0.25455704556706493), (2570, 0.3065501015557158), (2571, 0.20022335416985101), (2572, 0.0), (2573, 0.0), (2574, 0.19860435303451263), (2575, 0.3065501015557158), (2576, 0.0), (2577, 0.0), (2578, 0.0), (2579, 0.4999999999999999), (2580, 0.0), (2581, 0.0), (2582, 0.0), (2583, 0.27397546206455553), (2584, 0.4999999999999999), (2585, 0.0), (2586, 0.0), (2587, 0.0), (2588, 0.0), (2589, 0.0), (2590, 0.0), (2591, 0.0), (2592, 0.0), (2593, 0.0), (2594, 0.0), (2595, 0.0), (2596, 0.4999999999999999), (2597, 0.0), (2598, 0.0), (2599, 0.0), (2600, 0.0), (2601, 0.4999999999999999), (2602, 0.0), (2603, 0.0), (2604, 0.3065501015557158), (2605, 0.27397546206455553), (2606, 0.0), (2607, 0.0), (2608, 0.0), (2609, 0.0), (2610, 0.0), (2611, 0.0), (2612, 0.0), (2613, 0.0), (2614, 0.0), (2615, 0.0), (2616, 0.0), (2617, 0.0), (2618, 0.0), (2619, 0.0), (2620, 0.0), (2621, 0.0), (2622, 0.0), (2623, 0.0), (2624, 0.0), (2625, 0.0), (2626, 0.0), (2627, 0.0), (2628, 0.0), (2629, 0.0), (2630, 0.27397546206455553), (2631, 0.0), (2632, 0.0), (2633, 0.21778661262708018), (2634, 0.27397546206455553), (2635, 0.0), (2636, 0.0), (2637, 0.0), (2638, 0.0), (2639, 0.0), (2640, 0.0), (2641, 0.0), (2642, 0.0), (2643, 0.0), (2644, 0.0), (2645, 0.14100590760456105), (2646, 0.0), (2647, 0.30565352039237503), (2648, 0.0), (2649, 0.0), (2650, 0.0), (2651, 0.30495008792620504), (2652, 0.0), (2653, 0.0), (2654, 0.0), (2655, 0.0), (2656, 0.1733801978372286), (2657, 0.38688661130829566), (2658, 0.3065501015557158), (2659, 0.0), (2660, 0.0), (2661, 0.0), (2662, 0.0), (2663, 0.38688661130829566), (2664, 0.38688661130829566), (2665, 0.4999999999999999), (2666, 0.22802301556906615), (2667, 0.0), (2668, 0.0), (2669, 0.0), (2670, 0.0), (2671, 0.0), (2672, 0.4999999999999999), (2673, 0.0), (2674, 0.22118780256781448), (2675, 0.0), (2676, 0.0), (2677, 0.0), (2678, 0.1612223732488954), (2679, 0.21778661262708018), (2680, 0.0), (2681, 0.0), (2682, 0.0), (2683, 0.0), (2684, 0.0), (2685, 0.4999999999999999), (2686, 0.27397546206455553), (2687, 0.0), (2688, 0.0), (2689, 0.0), (2690, 0.0), (2691, 0.0), (2692, 0.0), (2693, 0.4999999999999999), (2694, 0.27397546206455553), (2695, 0.2540429640450034), (2696, 0.0), (2697, 0.0), (2698, 0.0), (2699, 0.0), (2700, 0.0), (2701, 0.0), (2702, 0.19659245263812938), (2703, 0.0), (2704, 0.0), (2705, 0.0), (2706, 0.2101539417122597), (2707, 0.0), (2708, 0.4999999999999999), (2709, 0.20022335416985101), (2710, 0.0), (2711, 0.0), (2712, 0.0), (2713, 0.0), (2714, 0.0), (2715, 0.29524647854905417), (2716, 0.0), (2717, 0.13912448417218806), (2718, 0.0), (2719, 0.0), (2720, 0.0), (2721, 0.0), (2722, 0.0), (2723, 0.14857549342084622), (2724, 0.38688661130829566), (2725, 0.0), (2726, 0.0), (2727, 0.0), (2728, 0.0), (2729, 0.3065501015557158), (2730, 0.0), (2731, 0.0), (2732, 0.0), (2733, 0.0), (2734, 0.0), (2735, 0.4999999999999999), (2736, 0.0), (2737, 0.0), (2738, 0.0), (2739, 0.0), (2740, 0.0), (2741, 0.0), (2742, 0.4999999999999999), (2743, 0.0), (2744, 0.0), (2745, 0.19904433760608226), (2746, 0.0), (2747, 0.3065501015557158), (2748, 0.27397546206455553), (2749, 0.0), (2750, 0.0), (2751, 0.0), (2752, 0.0), (2753, 0.0), (2754, 0.0), (2755, 0.0), (2756, 0.0), (2757, 0.0), (2758, 0.0), (2759, 0.0), (2760, 0.0), (2761, 0.4999999999999999), (2762, 0.0), (2763, 0.30565352039237503), (2764, 0.0), (2765, 0.0), (2766, 0.19203509648394643), (2767, 0.27397546206455553), (2768, 0.4999999999999999), (2769, 0.0), (2770, 0.0), (2771, 0.0), (2772, 0.0), (2773, 0.0), (2774, 0.4999999999999999), (2775, 0.0), (2776, 0.0), (2777, 0.23291964991872402), (2778, 0.0), (2779, 0.0), (2780, 0.30495008792620504), (2781, 0.0), (2782, 0.6768812226426245), (2783, 0.0), (2784, 0.4999999999999999), (2785, 0.0), (2786, 0.24633715807101975), (2787, 0.0), (2788, 0.0), (2789, 0.0), (2790, 0.230809788107592), (2791, 0.0), (2792, 0.0), (2793, 0.0), (2794, 0.0), (2795, 0.4999999999999999), (2796, 0.0), (2797, 0.0), (2798, 0.0), (2799, 0.0), (2800, 0.0), (2801, 0.0), (2802, 0.0), (2803, 0.0), (2804, 0.0), (2805, 0.0), (2806, 0.0), (2807, 0.0), (2808, 0.1193559376352546), (2809, 0.0), (2810, 0.0), (2811, 0.0), (2812, 0.0), (2813, 0.38688661130829566), (2814, 0.0), (2815, 0.0), (2816, 0.0), (2817, 0.0), (2818, 0.0), (2819, 0.0), (2820, 0.0), (2821, 0.0), (2822, 0.0), (2823, 0.0), (2824, 0.3301902230902173), (2825, 0.0), (2826, 0.0), (2827, 0.4999999999999999), (2828, 0.0), (2829, 0.0), (2830, 0.15586720591274011), (2831, 0.0), (2832, 0.38688661130829566), (2833, 0.0), (2834, 0.0), (2835, 0.0), (2836, 0.0), (2837, 0.0), (2838, 0.0), (2839, 0.0), (2840, 0.0), (2841, 0.0), (2842, 0.18094628517783884), (2843, 0.0), (2844, 0.0), (2845, 0.0), (2846, 0.2530062359134096), (2847, 0.0), (2848, 0.0), (2849, 0.0), (2850, 0.38688661130829566), (2851, 0.0), (2852, 0.0), (2853, 0.0), (2854, 0.4999999999999999), (2855, 0.0), (2856, 0.0), (2857, 0.0), (2858, 0.0), (2859, 0.0), (2860, 0.30495008792620504), (2861, 0.1733801978372286), (2862, 0.0), (2863, 0.38688661130829566), (2864, 0.0), (2865, 0.0), (2866, 0.0), (2867, 0.0), (2868, 0.0), (2869, 0.0), (2870, 0.0), (2871, 0.29524647854905417), (2872, 0.0), (2873, 0.0), (2874, 0.0), (2875, 0.0), (2876, 0.0), (2877, 0.0), (2878, 0.0), (2879, 0.0), (2880, 0.0), (2881, 0.0), (2882, 0.0), (2883, 0.3065501015557158), (2884, 0.0), (2885, 0.0), (2886, 0.0), (2887, 0.0), (2888, 0.38688661130829566), (2889, 0.0), (2890, 0.38688661130829566), (2891, 0.0), (2892, 0.19395830799230732), (2893, 0.0), (2894, 0.0), (2895, 0.0), (2896, 0.0), (2897, 0.30565352039237503), (2898, 0.0), (2899, 0.16080364250875678), (2900, 0.0), (2901, 0.0), (2902, 0.3065501015557158), (2903, 0.0), (2904, 0.0), (2905, 0.0), (2906, 0.0), (2907, 0.25097411522279317), (2908, 0.0), (2909, 0.21778661262708018), (2910, 0.0), (2911, 0.0), (2912, 0.0), (2913, 0.17349222046142745), (2914, 0.0), (2915, 0.4999999999999999), (2916, 0.16080364250875678), (2917, 0.3065501015557158), (2918, 0.0), (2919, 0.0), (2920, 0.0), (2921, 0.0), (2922, 0.0), (2923, 0.0), (2924, 0.0), (2925, 0.0), (2926, 0.0), (2927, 0.0), (2928, 0.0), (2929, 0.0), (2930, 0.0), (2931, 0.0), (2932, 0.4999999999999999), (2933, 0.0), (2934, 0.0), (2935, 0.33727417905835966), (2936, 0.198837110408225), (2937, 0.30565352039237503), (2938, 0.0), (2939, 0.0), (2940, 0.0), (2941, 0.0), (2942, 0.0), (2943, 0.15820384561951353), (2944, 0.0), (2945, 0.211935807892234), (2946, 0.0), (2947, 0.33727417905835966), (2948, 0.0), (2949, 0.0), (2950, 0.0), (2951, 0.0), (2952, 0.33727417905835966), (2953, 0.0), (2954, 0.0), (2955, 0.0), (2956, 0.0), (2957, 0.0), (2958, 0.4999999999999999), (2959, 0.0), (2960, 0.0), (2961, 0.4999999999999999), (2962, 0.0), (2963, 0.0), (2964, 0.0), (2965, 0.0), (2966, 0.25363864963787386), (2967, 0.0), (2968, 0.0), (2969, 0.4999999999999999), (2970, 0.0), (2971, 0.0), (2972, 0.23456056465311712), (2973, 0.0), (2974, 0.38688661130829566), (2975, 0.0), (2976, 0.21254406576055543), (2977, 0.16812954126348073), (2978, 0.0), (2979, 0.0), (2980, 0.0), (2981, 0.0), (2982, 0.21677675855332218), (2983, 0.0), (2984, 0.0), (2985, 0.30565352039237503), (2986, 0.0), (2987, 0.0), (2988, 0.1743624292152227), (2989, 0.0), (2990, 0.0), (2991, 0.0), (2992, 0.0), (2993, 0.0), (2994, 0.0), (2995, 0.20793890620230665), (2996, 0.0), (2997, 0.0), (2998, 0.38688661130829566), (2999, 0.0), (3000, 0.0), (3001, 0.38688661130829566), (3002, 0.0), (3003, 0.0), (3004, 0.33727417905835966), (3005, 0.3065501015557158), (3006, 0.2631406242128161), (3007, 0.0), (3008, 0.0), (3009, 0.3065501015557158), (3010, 0.0), (3011, 0.0), (3012, 0.0), (3013, 0.0), (3014, 0.0), (3015, 0.20570340667310336), (3016, 0.0), (3017, 0.0), (3018, 0.0), (3019, 0.0), (3020, 0.0), (3021, 0.0), (3022, 0.27397546206455553), (3023, 0.20382703548989403), (3024, 0.0), (3025, 0.18609831129795407), (3026, 0.0), (3027, 0.27397546206455553), (3028, 0.0), (3029, 0.0), (3030, 0.0), (3031, 0.0), (3032, 0.0), (3033, 0.0), (3034, 0.0), (3035, 0.25097411522279317), (3036, 0.0), (3037, 0.0), (3038, 0.2349650296640092), (3039, 0.0), (3040, 0.4999999999999999), (3041, 0.4999999999999999), (3042, 0.0), (3043, 0.0), (3044, 0.0), (3045, 0.0), (3046, 0.18240802249167676), (3047, 0.4999999999999999), (3048, 0.0), (3049, 0.0), (3050, 0.0), (3051, 0.38688661130829566), (3052, 0.0), (3053, 0.0), (3054, 0.25455704556706493), (3055, 0.23291964991872402), (3056, 0.0), (3057, 0.0), (3058, 0.0), (3059, 0.0), (3060, 0.0), (3061, 0.20062465434998478), (3062, 0.27397546206455553), (3063, 0.0), (3064, 0.21590647838262206), (3065, 0.0), (3066, 0.230809788107592), (3067, 0.0), (3068, 0.0), (3069, 0.0), (3070, 0.0), (3071, 0.0), (3072, 0.0), (3073, 0.26761445187478167), (3074, 0.0), (3075, 0.0), (3076, 0.3065501015557158), (3077, 0.0), (3078, 0.0), (3079, 0.4999999999999999), (3080, 0.27397546206455553), (3081, 0.0), (3082, 0.29045940492148375), (3083, 0.0), (3084, 0.0), (3085, 0.0), (3086, 0.33727417905835966), (3087, 0.0), (3088, 0.0), (3089, 0.20454703374752845), (3090, 0.0), (3091, 0.4999999999999999), (3092, 0.0), (3093, 0.0), (3094, 0.0), (3095, 0.0), (3096, 0.0), (3097, 0.4999999999999999), (3098, 0.4999999999999999), (3099, 0.10532890604719769), (3100, 0.4999999999999999), (3101, 0.0), (3102, 0.4999999999999999), (3103, 0.0), (3104, 0.27397546206455553), (3105, 0.0), (3106, 0.0), (3107, 0.0), (3108, 0.0), (3109, 0.0), (3110, 0.0), (3111, 0.0), (3112, 0.0), (3113, 0.0), (3114, 0.0), (3115, 0.0), (3116, 0.27397546206455553), (3117, 0.0), (3118, 0.0), (3119, 0.0), (3120, 0.0), (3121, 0.0), (3122, 0.0), (3123, 0.0), (3124, 0.1733690834819027), (3125, 0.21682710860623888), (3126, 0.0), (3127, 0.0), (3128, 0.30495008792620504), (3129, 0.0), (3130, 0.3065501015557158), (3131, 0.4999999999999999), (3132, 0.0), (3133, 0.0), (3134, 0.0), (3135, 0.16438999224224596), (3136, 0.0), (3137, 0.0), (3138, 0.0), (3139, 0.0), (3140, 0.0), (3141, 0.0), (3142, 0.0), (3143, 0.0), (3144, 0.0), (3145, 0.0), (3146, 0.0), (3147, 0.0), (3148, 0.0), (3149, 0.0), (3150, 0.4999999999999999), (3151, 0.4999999999999999), (3152, 0.0), (3153, 0.0), (3154, 0.0), (3155, 0.0), (3156, 0.0), (3157, 0.3065501015557158), (3158, 0.0), (3159, 0.4999999999999999), (3160, 0.0), (3161, 0.0), (3162, 0.0), (3163, 0.0), (3164, 0.16115901084941553), (3165, 0.0), (3166, 0.0), (3167, 0.0), (3168, 0.0), (3169, 0.0), (3170, 0.0), (3171, 0.16698606029577584), (3172, 0.0), (3173, 0.16107407982184005), (3174, 0.0), (3175, 0.0), (3176, 0.0), (3177, 0.4999999999999999), (3178, 0.2540429640450034), (3179, 0.0), (3180, 0.0), (3181, 0.0), (3182, 0.0), (3183, 0.0), (3184, 0.0), (3185, 0.0), (3186, 0.0), (3187, 0.0), (3188, 0.0), (3189, 0.0), (3190, 0.33727417905835966), (3191, 0.0), (3192, 0.0), (3193, 0.0), (3194, 0.20062465434998478), (3195, 0.0), (3196, 0.0), (3197, 0.25363864963787386), (3198, 0.0), (3199, 0.0), (3200, 0.1262895786176863), (3201, 0.21778661262708018), (3202, 0.0), (3203, 0.38688661130829566), (3204, 0.0), (3205, 0.30565352039237503), (3206, 0.0), (3207, 0.0), (3208, 0.0), (3209, 0.0), (3210, 0.0), (3211, 0.0), (3212, 0.27397546206455553), (3213, 0.0), (3214, 0.0), (3215, 0.2631406242128161), (3216, 0.0), (3217, 0.30495008792620504), (3218, 0.0), (3219, 0.0), (3220, 0.0), (3221, 0.0), (3222, 0.29524647854905417), (3223, 0.0), (3224, 0.0), (3225, 0.0), (3226, 0.0), (3227, 0.0), (3228, 0.25455704556706493), (3229, 0.0), (3230, 0.3065501015557158), (3231, 0.0), (3232, 0.0), (3233, 0.0), (3234, 0.0), (3235, 0.0), (3236, 0.0), (3237, 0.0), (3238, 0.0), (3239, 0.17868158921822688), (3240, 0.0), (3241, 0.15168248673685558), (3242, 0.0), (3243, 0.0), (3244, 0.4999999999999999), (3245, 0.0), (3246, 0.0), (3247, 0.0), (3248, 0.0), (3249, 0.15714148107090412), (3250, 0.0), (3251, 0.38688661130829566), (3252, 0.0), (3253, 0.26920568841375814), (3254, 0.0), (3255, 0.22346103118264926), (3256, 0.38688661130829566), (3257, 0.4999999999999999), (3258, 0.0), (3259, 0.0), (3260, 0.0), (3261, 0.0), (3262, 0.0), (3263, 0.1621000144745049), (3264, 0.30565352039237503), (3265, 0.0), (3266, 0.19833883934085486), (3267, 0.0), (3268, 0.0), (3269, 0.0), (3270, 0.0), (3271, 0.0), (3272, 0.38688661130829566), (3273, 0.0), (3274, 0.25097411522279317), (3275, 0.0), (3276, 0.0), (3277, 0.0), (3278, 0.20454703374752845), (3279, 0.0), (3280, 0.0), (3281, 0.0), (3282, 0.0), (3283, 0.38688661130829566), (3284, 0.0), (3285, 0.0), (3286, 0.0), (3287, 0.0), (3288, 0.0), (3289, 0.0), (3290, 0.0), (3291, 0.0), (3292, 0.0), (3293, 0.27397546206455553), (3294, 0.4999999999999999), (3295, 0.0), (3296, 0.30495008792620504), (3297, 0.0), (3298, 0.0), (3299, 0.0), (3300, 0.0), (3301, 0.0), (3302, 0.33727417905835966), (3303, 0.0), (3304, 0.0), (3305, 0.0), (3306, 0.0), (3307, 0.4999999999999999), (3308, 0.4999999999999999), (3309, 0.4999999999999999), (3310, 0.0), (3311, 0.27397546206455553), (3312, 0.0), (3313, 0.30565352039237503), (3314, 0.0), (3315, 0.4999999999999999), (3316, 0.4999999999999999), (3317, 0.0), (3318, 0.0), (3319, 0.0), (3320, 0.0), (3321, 0.0), (3322, 0.0), (3323, 0.0), (3324, 0.0), (3325, 0.0), (3326, 0.0), (3327, 0.29524647854905417), (3328, 0.27397546206455553), (3329, 0.0), (3330, 0.29524647854905417), (3331, 0.0), (3332, 0.0), (3333, 0.12306716295668267), (3334, 0.17649700833690343), (3335, 0.4999999999999999), (3336, 0.0), (3337, 0.0), (3338, 0.4999999999999999), (3339, 0.0), (3340, 0.0), (3341, 0.0), (3342, 0.0), (3343, 0.0), (3344, 0.19591831817254518), (3345, 0.0), (3346, 0.0), (3347, 0.0), (3348, 0.27397546206455553), (3349, 0.0), (3350, 0.22029914715272902), (3351, 0.0), (3352, 0.0), (3353, 0.0), (3354, 0.0), (3355, 0.0), (3356, 0.0), (3357, 0.0), (3358, 0.0), (3359, 0.0), (3360, 0.0), (3361, 0.0), (3362, 0.30565352039237503), (3363, 0.0), (3364, 0.0), (3365, 0.0), (3366, 0.0), (3367, 0.24259597927691326), (3368, 0.0), (3369, 0.22133352152513128), (3370, 0.1464495248847767), (3371, 0.0), (3372, 0.0), (3373, 0.0), (3374, 0.0), (3375, 0.0), (3376, 0.2319355547474144), (3377, 0.29524647854905417), (3378, 0.0), (3379, 0.0), (3380, 0.0), (3381, 0.0), (3382, 0.0), (3383, 0.0), (3384, 0.0), (3385, 0.0), (3386, 0.0), (3387, 0.33727417905835966), (3388, 0.19860435303451263), (3389, 0.0), (3390, 0.0), (3391, 0.0), (3392, 0.0), (3393, 0.0), (3394, 0.0), (3395, 0.0), (3396, 0.0), (3397, 0.0), (3398, 0.0), (3399, 0.0), (3400, 0.21622364601852773), (3401, 0.0), (3402, 0.0), (3403, 0.3065501015557158), (3404, 0.0), (3405, 0.0), (3406, 0.0), (3407, 0.0), (3408, 0.0), (3409, 0.30565352039237503), (3410, 0.0), (3411, 0.0), (3412, 0.0), (3413, 0.24633715807101975), (3414, 0.3065501015557158), (3415, 0.0), (3416, 0.0), (3417, 0.0), (3418, 0.211935807892234), (3419, 0.2631406242128161), (3420, 0.17469332368619528), (3421, 0.3065501015557158), (3422, 0.0), (3423, 0.4999999999999999), (3424, 0.0), (3425, 0.0), (3426, 0.0), (3427, 0.0), (3428, 0.0), (3429, 0.0), (3430, 0.0), (3431, 0.0), (3432, 0.0), (3433, 0.0), (3434, 0.0), (3435, 0.0), (3436, 0.4999999999999999), (3437, 0.0), (3438, 0.0), (3439, 0.0), (3440, 0.0), (3441, 0.0), (3442, 0.0), (3443, 0.4999999999999999), (3444, 0.0), (3445, 0.0), (3446, 0.21677675855332212), (3447, 0.0), (3448, 0.0), (3449, 0.0), (3450, 0.0), (3451, 0.1869595236320175), (3452, 0.0), (3453, 0.0), (3454, 0.5), (3455, 0.0), (3456, 0.0), (3457, 0.0), (3458, 0.0), (3459, 0.0), (3460, 0.0), (3461, 0.0), (3462, 0.0), (3463, 0.38688661130829566), (3464, 0.24259597927691326), (3465, 0.4999999999999999), (3466, 0.0), (3467, 0.0), (3468, 0.0), (3469, 0.27397546206455553), (3470, 0.0), (3471, 0.0), (3472, 0.30565352039237503), (3473, 0.0), (3474, 0.0), (3475, 0.0), (3476, 0.0), (3477, 0.0), (3478, 0.21622364601852773), (3479, 0.0), (3480, 0.0), (3481, 0.0), (3482, 0.0), (3483, 0.0), (3484, 0.0), (3485, 0.0), (3486, 0.0), (3487, 0.0), (3488, 0.0), (3489, 0.0), (3490, 0.30495008792620504), (3491, 0.0), (3492, 0.0), (3493, 0.27397546206455553), (3494, 0.0), (3495, 0.0), (3496, 0.2124119049947282), (3497, 0.4999999999999999), (3498, 0.0), (3499, 0.0), (3500, 0.0), (3501, 0.4999999999999999), (3502, 0.0), (3503, 0.0), (3504, 0.2116388510940197), (3505, 0.0), (3506, 0.25922489046825764), (3507, 0.0), (3508, 0.0), (3509, 0.0), (3510, 0.0), (3511, 0.0), (3512, 0.4999999999999999), (3513, 0.0), (3514, 0.38688661130829566), (3515, 0.0), (3516, 0.0), (3517, 0.27397546206455553), (3518, 0.16438999224224596), (3519, 0.0), (3520, 0.0), (3521, 0.0), (3522, 0.2728314305718704), (3523, 0.3065501015557158), (3524, 0.0), (3525, 0.0), (3526, 0.0), (3527, 0.0), (3528, 0.33727417905835966), (3529, 0.0), (3530, 0.0), (3531, 0.0), (3532, 0.0), (3533, 0.0), (3534, 0.0), (3535, 0.0), (3536, 0.29524647854905417), (3537, 0.4999999999999999), (3538, 0.0), (3539, 0.0), (3540, 0.1436862684251689), (3541, 0.38688661130829566), (3542, 0.0), (3543, 0.16438999224224596), (3544, 0.0), (3545, 0.0), (3546, 0.0), (3547, 0.27397546206455553), (3548, 0.0), (3549, 0.0), (3550, 0.0), (3551, 0.15446745761027803), (3552, 0.0), (3553, 0.0), (3554, 0.0), (3555, 0.0), (3556, 0.0), (3557, 0.30565352039237503), (3558, 0.26761445187478167), (3559, 0.4999999999999999), (3560, 0.0), (3561, 0.0), (3562, 0.0), (3563, 0.38688661130829566), (3564, 0.24259597927691326), (3565, 0.0), (3566, 0.0), (3567, 0.0), (3568, 0.0), (3569, 0.0), (3570, 0.0), (3571, 0.4999999999999999), (3572, 0.0), (3573, 0.0), (3574, 0.0), (3575, 0.0), (3576, 0.4999999999999999), (3577, 0.4999999999999999), (3578, 0.0), (3579, 0.0), (3580, 0.0), (3581, 0.0), (3582, 0.0), (3583, 0.4999999999999999), (3584, 0.33727417905835966), (3585, 0.4999999999999999), (3586, 0.2319355547474144), (3587, 0.33727417905835966), (3588, 0.33727417905835966), (3589, 0.0), (3590, 0.0), (3591, 0.0), (3592, 0.0), (3593, 0.0), (3594, 0.0), (3595, 0.0), (3596, 0.33727417905835966), (3597, 0.0), (3598, 0.0), (3599, 0.0), (3600, 0.0), (3601, 0.4999999999999999), (3602, 0.0), (3603, 0.0), (3604, 0.1558859193233443), (3605, 0.0), (3606, 0.0), (3607, 0.0), (3608, 0.0), (3609, 0.0), (3610, 0.0), (3611, 0.4999999999999999), (3612, 0.0), (3613, 0.0), (3614, 0.0), (3615, 0.0), (3616, 0.0), (3617, 0.0), (3618, 0.0), (3619, 0.0), (3620, 0.0), (3621, 0.23991930293213928), (3622, 0.0), (3623, 0.0), (3624, 0.0), (3625, 0.0), (3626, 0.0), (3627, 0.0), (3628, 0.0), (3629, 0.0), (3630, 0.4999999999999999), (3631, 0.0), (3632, 0.1621000144745049), (3633, 0.3065501015557158), (3634, 0.24259597927691326), (3635, 0.0), (3636, 0.0), (3637, 0.0), (3638, 0.27397546206455553), (3639, 0.0), (3640, 0.0), (3641, 0.0), (3642, 0.0), (3643, 0.0), (3644, 0.18820701646671478), (3645, 0.2337437939221848), (3646, 0.0), (3647, 0.0), (3648, 0.0), (3649, 0.0), (3650, 0.0), (3651, 0.0), (3652, 0.0), (3653, 0.0), (3654, 0.4999999999999999), (3655, 0.0), (3656, 0.0), (3657, 0.0), (3658, 0.0), (3659, 0.0), (3660, 0.0), (3661, 0.0), (3662, 0.0), (3663, 0.0), (3664, 0.0), (3665, 0.0), (3666, 0.38688661130829566), (3667, 0.38688661130829566), (3668, 0.0), (3669, 0.0), (3670, 0.0), (3671, 0.0), (3672, 0.2349650296640092), (3673, 0.0), (3674, 0.0), (3675, 0.0), (3676, 0.0), (3677, 0.0), (3678, 0.0), (3679, 0.0), (3680, 0.0), (3681, 0.0), (3682, 0.26920568841375814), (3683, 0.0), (3684, 0.2540429640450034), (3685, 0.0), (3686, 0.0), (3687, 0.0), (3688, 0.0), (3689, 0.0), (3690, 0.0), (3691, 0.0), (3692, 0.0), (3693, 0.0), (3694, 0.0), (3695, 0.0), (3696, 0.0), (3697, 0.0), (3698, 0.0), (3699, 0.4999999999999999), (3700, 0.0), (3701, 0.0), (3702, 0.0), (3703, 0.4999999999999999), (3704, 0.0), (3705, 0.33727417905835966), (3706, 0.0), (3707, 0.3301902230902173), (3708, 0.30495008792620504), (3709, 0.0), (3710, 0.0), (3711, 0.0), (3712, 0.0), (3713, 0.0), (3714, 0.0), (3715, 0.33727417905835966), (3716, 0.0), (3717, 0.0), (3718, 0.0), (3719, 0.0), (3720, 0.0), (3721, 0.0), (3722, 0.0), (3723, 0.15050356912523108), (3724, 0.0), (3725, 0.0), (3726, 0.1918540137635029), (3727, 0.15679589797281657), (3728, 0.0), (3729, 0.0), (3730, 0.0), (3731, 0.0), (3732, 0.0), (3733, 0.4999999999999999), (3734, 0.0), (3735, 0.0), (3736, 0.4999999999999999), (3737, 0.0), (3738, 0.0), (3739, 0.0), (3740, 0.0), (3741, 0.0), (3742, 0.0), (3743, 0.0), (3744, 0.0), (3745, 0.4999999999999999), (3746, 0.0), (3747, 0.0), (3748, 0.0), (3749, 0.0), (3750, 0.0), (3751, 0.0), (3752, 0.0), (3753, 0.0), (3754, 0.4999999999999999), (3755, 0.0), (3756, 0.0), (3757, 0.7509741152227931), (3758, 0.5), (3759, 0.0), (3760, 0.4999999999999999), (3761, 0.20793890620230665), (3762, 0.0), (3763, 0.4999999999999999), (3764, 0.0), (3765, 0.0), (3766, 0.0), (3767, 0.0), (3768, 0.38688661130829566), (3769, 0.4999999999999999), (3770, 0.0), (3771, 0.0), (3772, 0.38688661130829566), (3773, 0.0), (3774, 0.12703819714086906), (3775, 0.24166464995570225), (3776, 0.0), (3777, 0.0), (3778, 0.0), (3779, 0.0), (3780, 0.0), (3781, 0.27397546206455553), (3782, 0.18614220488544564), (3783, 0.0), (3784, 0.0), (3785, 0.21746441471040534), (3786, 0.0), (3787, 0.0), (3788, 0.0), (3789, 0.38688661130829566), (3790, 0.0), (3791, 0.19587547496401064), (3792, 0.0), (3793, 0.3065501015557158), (3794, 0.38688661130829566), (3795, 0.0), (3796, 0.0), (3797, 0.4999999999999999), (3798, 0.0), (3799, 0.24166464995570225), (3800, 0.0), (3801, 0.0), (3802, 0.3065501015557158), (3803, 0.0), (3804, 0.0), (3805, 0.0), (3806, 0.0), (3807, 0.38688661130829566), (3808, 0.0), (3809, 0.13473470536156856), (3810, 0.0), (3811, 0.0), (3812, 0.0), (3813, 0.27397546206455553), (3814, 0.0), (3815, 0.0), (3816, 0.0), (3817, 0.0), (3818, 0.4999999999999999), (3819, 0.0), (3820, 0.0), (3821, 0.0), (3822, 0.0), (3823, 0.0), (3824, 0.3065501015557158), (3825, 0.0), (3826, 0.0), (3827, 0.0), (3828, 0.0), (3829, 0.0), (3830, 0.0), (3831, 0.0), (3832, 0.0), (3833, 0.0), (3834, 0.16080364250875678), (3835, 0.0), (3836, 0.4999999999999999), (3837, 0.0), (3838, 0.0), (3839, 0.0), (3840, 0.4999999999999999), (3841, 0.0), (3842, 0.4999999999999999), (3843, 0.0), (3844, 0.22546091339709604), (3845, 0.0), (3846, 0.3065501015557158), (3847, 0.19157776652358097), (3848, 0.0), (3849, 0.0), (3850, 0.4999999999999999), (3851, 0.0), (3852, 0.0), (3853, 0.0), (3854, 0.0), (3855, 0.0), (3856, 0.0), (3857, 0.3065501015557158), (3858, 0.0), (3859, 0.0), (3860, 0.0), (3861, 0.1755474727299005), (3862, 0.0), (3863, 0.0), (3864, 0.0), (3865, 0.0), (3866, 0.0), (3867, 0.4999999999999999), (3868, 0.0), (3869, 0.0), (3870, 0.4999999999999999), (3871, 0.0), (3872, 0.0), (3873, 0.0), (3874, 0.0), (3875, 0.0), (3876, 0.0), (3877, 0.0), (3878, 0.25455704556706493), (3879, 0.0), (3880, 0.0), (3881, 0.2530062359134096), (3882, 0.0), (3883, 0.0), (3884, 0.11139115269287071), (3885, 0.0), (3886, 0.0), (3887, 0.0), (3888, 0.0), (3889, 0.0), (3890, 0.29524647854905417), (3891, 0.24166464995570225), (3892, 0.19273136822808162), (3893, 0.0), (3894, 0.0), (3895, 0.4999999999999999), (3896, 0.33727417905835966), (3897, 0.0), (3898, 0.0), (3899, 0.0), (3900, 0.0), (3901, 0.0), (3902, 0.0), (3903, 0.17859118155708087), (3904, 0.0), (3905, 0.0), (3906, 0.0), (3907, 0.0), (3908, 0.0), (3909, 0.33727417905835966), (3910, 0.3065501015557158), (3911, 0.0), (3912, 0.3065501015557158), (3913, 0.0), (3914, 0.0), (3915, 0.0), (3916, 0.4999999999999999), (3917, 0.12951315760325813), (3918, 0.0), (3919, 0.0), (3920, 0.0), (3921, 0.0), (3922, 0.0), (3923, 0.4999999999999999), (3924, 0.4999999999999999), (3925, 0.0), (3926, 0.0), (3927, 0.4999999999999999), (3928, 0.0), (3929, 0.0), (3930, 0.0), (3931, 0.0), (3932, 0.0), (3933, 0.0), (3934, 0.0), (3935, 0.0), (3936, 0.0), (3937, 0.0), (3938, 0.38688661130829566), (3939, 0.10353218426490787), (3940, 0.0), (3941, 0.0), (3942, 0.0), (3943, 0.27397546206455553), (3944, 0.24259597927691326), (3945, 0.0), (3946, 0.0), (3947, 0.0), (3948, 0.38688661130829566), (3949, 0.0), (3950, 0.3065501015557158), (3951, 0.0), (3952, 0.0), (3953, 0.21139653089429342), (3954, 0.3065501015557158), (3955, 0.0), (3956, 0.20513471151275575), (3957, 0.0), (3958, 0.0), (3959, 0.0), (3960, 0.3065501015557158), (3961, 0.0), (3962, 0.20173444334924456), (3963, 0.0), (3964, 0.9999999999999998), (3965, 0.2116388510940197), (3966, 0.4999999999999999), (3967, 0.0), (3968, 0.0), (3969, 0.0), (3970, 0.0), (3971, 0.24166464995570225), (3972, 0.0), (3973, 0.3065501015557158), (3974, 0.16765753717956772), (3975, 0.4999999999999999), (3976, 0.21622364601852773), (3977, 0.0), (3978, 0.0), (3979, 0.38688661130829566), (3980, 0.38688661130829566), (3981, 0.0), (3982, 0.7425959792769131), (3983, 0.0), (3984, 0.4999999999999999), (3985, 0.4999999999999999), (3986, 0.4999999999999999), (3987, 0.28629174245469174), (3988, 0.0), (3989, 0.3065501015557158), (3990, 0.0), (3991, 0.0), (3992, 0.4999999999999999), (3993, 0.0), (3994, 0.0), (3995, 0.15136683247235125), (3996, 0.0), (3997, 0.0), (3998, 0.0), (3999, 0.24166464995570225), (4000, 0.0), (4001, 0.0), (4002, 0.4999999999999999), (4003, 0.0), (4004, 0.17868158921822688), (4005, 0.0), (4006, 0.38688661130829566), (4007, 0.4999999999999999), (4008, 0.38688661130829566), (4009, 0.19997290331527096), (4010, 0.38688661130829566), (4011, 0.3065501015557158), (4012, 0.38688661130829566), (4013, 0.3065501015557158), (4014, 0.4999999999999999), (4015, 0.0), (4016, 0.0), (4017, 0.0), (4018, 0.33727417905835966), (4019, 0.0), (4020, 0.0), (4021, 0.21746441471040534), (4022, 0.0), (4023, 0.0), (4024, 0.2631406242128161), (4025, 0.0), (4026, 0.0), (4027, 0.33727417905835966), (4028, 0.25455704556706493), (4029, 0.4999999999999999), (4030, 0.0), (4031, 0.0), (4032, 0.0), (4033, 0.23187393223938224), (4034, 0.21677675855332218), (4035, 0.0), (4036, 0.0), (4037, 0.0), (4038, 0.0), (4039, 0.0), (4040, 0.0), (4041, 0.0), (4042, 0.0), (4043, 0.25363864963787386), (4044, 0.0), (4045, 0.2540429640450034), (4046, 0.0), (4047, 0.0), (4048, 0.0), (4049, 0.0), (4050, 0.0), (4051, 0.4999999999999999), (4052, 0.19587547496401064), (4053, 0.0), (4054, 0.38688661130829566), (4055, 0.0), (4056, 0.4999999999999999), (4057, 0.0), (4058, 0.0), (4059, 0.0), (4060, 0.4999999999999999), (4061, 0.0), (4062, 0.0), (4063, 0.38688661130829566), (4064, 0.0), (4065, 0.0), (4066, 0.20454703374752845), (4067, 0.27397546206455553), (4068, 0.0), (4069, 0.30565352039237503), (4070, 0.0), (4071, 0.0), (4072, 0.0), (4073, 0.0), (4074, 0.0), (4075, 0.0), (4076, 0.0), (4077, 0.0), (4078, 0.0), (4079, 0.0), (4080, 0.21373034697327564), (4081, 0.4999999999999999), (4082, 0.0), (4083, 0.21320497125707266), (4084, 0.0), (4085, 0.0), (4086, 0.38688661130829566), (4087, 0.0), (4088, 0.0), (4089, 0.0), (4090, 0.0), (4091, 0.0), (4092, 0.23991930293213928), (4093, 0.0), (4094, 0.0), (4095, 0.29524647854905417), (4096, 0.0), (4097, 0.0), (4098, 0.0), (4099, 0.0), (4100, 0.0), (4101, 0.0), (4102, 0.0), (4103, 0.0), (4104, 0.0), (4105, 0.0), (4106, 0.0), (4107, 0.0), (4108, 0.0), (4109, 0.4999999999999999), (4110, 0.27333483768412536), (4111, 0.1193559376352546), (4112, 0.4999999999999999), (4113, 0.0), (4114, 0.1492569470124384), (4115, 0.0), (4116, 0.0), (4117, 0.13397983740689395), (4118, 0.0), (4119, 0.38688661130829566), (4120, 0.27397546206455553), (4121, 0.4999999999999999), (4122, 0.0), (4123, 0.0), (4124, 0.0), (4125, 0.0), (4126, 0.0), (4127, 0.0), (4128, 0.0), (4129, 0.0), (4130, 0.0), (4131, 0.4999999999999999), (4132, 0.0), (4133, 0.0), (4134, 0.17259503898859552), (4135, 0.20310950449970278), (4136, 0.13741297883552017), (4137, 0.0), (4138, 0.0), (4139, 0.21590647838262206), (4140, 0.3065501015557158), (4141, 0.0), (4142, 0.26761445187478167), (4143, 0.0), (4144, 0.0), (4145, 0.0), (4146, 0.0), (4147, 0.0), (4148, 0.0), (4149, 0.0), (4150, 0.27397546206455553), (4151, 0.0), (4152, 0.0), (4153, 0.0), (4154, 0.0), (4155, 0.0), (4156, 0.4999999999999999), (4157, 0.30565352039237503), (4158, 0.0), (4159, 0.0), (4160, 0.0), (4161, 0.0), (4162, 0.0), (4163, 0.30495008792620504), (4164, 0.0), (4165, 0.0), (4166, 0.38688661130829566), (4167, 0.19591831817254518), (4168, 0.0), (4169, 0.0), (4170, 0.0), (4171, 0.27397546206455553), (4172, 0.0), (4173, 0.0), (4174, 0.0), (4175, 0.0), (4176, 0.0), (4177, 0.19833883934085486), (4178, 0.0), (4179, 0.29524647854905417), (4180, 0.30565352039237503), (4181, 0.0), (4182, 0.0), (4183, 0.0), (4184, 0.27397546206455553), (4185, 0.0), (4186, 0.0), (4187, 0.0), (4188, 0.0), (4189, 0.0), (4190, 0.0), (4191, 0.12306716295668267), (4192, 0.0), (4193, 0.0), (4194, 0.0), (4195, 0.3065501015557158), (4196, 0.3065501015557158), (4197, 0.0), (4198, 0.0), (4199, 0.0), (4200, 0.0), (4201, 0.0), (4202, 0.0), (4203, 0.0), (4204, 0.0), (4205, 0.25455704556706493), (4206, 0.4999999999999999), (4207, 0.0), (4208, 0.0), (4209, 0.0), (4210, 0.0), (4211, 0.0), (4212, 0.4999999999999999), (4213, 0.33727417905835966), (4214, 0.0), (4215, 0.4999999999999999), (4216, 0.4999999999999999), (4217, 0.0), (4218, 0.0), (4219, 0.4999999999999999), (4220, 0.0), (4221, 0.0), (4222, 0.4999999999999999), (4223, 0.0), (4224, 0.0), (4225, 0.0), (4226, 0.0), (4227, 0.0), (4228, 0.0), (4229, 0.0), (4230, 0.0), (4231, 0.0), (4232, 0.15714148107090412), (4233, 0.0), (4234, 0.0), (4235, 0.18609831129795407), (4236, 0.0), (4237, 0.0), (4238, 0.0), (4239, 0.0), (4240, 0.0), (4241, 0.0), (4242, 0.0), (4243, 0.3065501015557158), (4244, 0.22961279138049326), (4245, 0.2116388510940197), (4246, 0.0), (4247, 0.0), (4248, 0.0), (4249, 0.0), (4250, 0.19587547496401064), (4251, 0.0), (4252, 0.4999999999999999), (4253, 0.4999999999999999), (4254, 0.0), (4255, 0.0), (4256, 0.0), (4257, 0.14692588856360386), (4258, 0.0), (4259, 0.21682710860623888), (4260, 0.0), (4261, 0.3301902230902173), (4262, 0.0), (4263, 0.0), (4264, 0.3065501015557158), (4265, 0.21677675855332218), (4266, 0.0), (4267, 0.0), (4268, 0.0), (4269, 0.0), (4270, 0.0), (4271, 0.0), (4272, 0.0), (4273, 0.0), (4274, 0.0), (4275, 0.1560850087344807), (4276, 0.0), (4277, 0.0), (4278, 0.0), (4279, 0.30565352039237503), (4280, 0.0), (4281, 0.27397546206455553), (4282, 0.3065501015557158), (4283, 0.0), (4284, 0.4999999999999999), (4285, 0.0), (4286, 0.14100590760456105), (4287, 0.0), (4288, 0.0), (4289, 0.0), (4290, 0.194029764807868), (4291, 0.0), (4292, 0.3065501015557158), (4293, 0.0), (4294, 0.0), (4295, 0.0), (4296, 0.0), (4297, 0.0), (4298, 0.0), (4299, 0.0), (4300, 0.0), (4301, 0.211935807892234), (4302, 0.22029914715272902), (4303, 0.2319355547474144), (4304, 0.30495008792620504), (4305, 0.0), (4306, 0.0), (4307, 0.0), (4308, 0.0), (4309, 0.27333483768412536), (4310, 0.0), (4311, 0.0), (4312, 0.0), (4313, 0.0), (4314, 0.33727417905835966), (4315, 0.29524647854905417), (4316, 0.0), (4317, 0.0), (4318, 0.0), (4319, 0.0), (4320, 0.0), (4321, 0.3301902230902173), (4322, 0.1621000144745049), (4323, 0.4999999999999999), (4324, 0.21139653089429342), (4325, 0.7952464785490541), (4326, 0.10186355272704602), (4327, 0.0), (4328, 0.0), (4329, 0.0), (4330, 0.0), (4331, 0.38688661130829566), (4332, 0.0), (4333, 0.38688661130829566), (4334, 0.4999999999999999), (4335, 0.0), (4336, 0.33727417905835966), (4337, 0.0), (4338, 0.33727417905835966), (4339, 0.0), (4340, 0.24259597927691326), (4341, 0.0), (4342, 0.0), (4343, 0.0), (4344, 0.29524647854905417), (4345, 0.0), (4346, 0.0), (4347, 0.0), (4348, 0.0), (4349, 0.0), (4350, 0.11431113185497956), (4351, 0.0), (4352, 0.0), (4353, 0.0), (4354, 0.0), (4355, 0.0), (4356, 0.0), (4357, 0.0), (4358, 0.0), (4359, 0.30565352039237503), (4360, 0.0), (4361, 0.0), (4362, 0.0), (4363, 0.30495008792620504), (4364, 0.4999999999999999), (4365, 0.0), (4366, 0.4999999999999999), (4367, 0.0), (4368, 0.0), (4369, 0.0), (4370, 0.0), (4371, 0.0), (4372, 0.0), (4373, 0.0), (4374, 0.0), (4375, 0.0), (4376, 0.0), (4377, 0.0), (4378, 0.0), (4379, 0.0), (4380, 0.21590647838262206), (4381, 0.0), (4382, 0.0), (4383, 0.38688661130829566), (4384, 0.0), (4385, 0.24259597927691326), (4386, 0.23496502966400926), (4387, 0.0), (4388, 0.0), (4389, 0.0), (4390, 0.25363864963787386), (4391, 0.0), (4392, 0.0), (4393, 0.0), (4394, 0.0), (4395, 0.0), (4396, 0.13739176628783242), (4397, 0.29045940492148375), (4398, 0.0), (4399, 0.0), (4400, 0.0), (4401, 0.0), (4402, 0.0), (4403, 0.0), (4404, 0.20310950449970278), (4405, 0.0), (4406, 0.0), (4407, 0.16080364250875678), (4408, 0.0), (4409, 0.0), (4410, 0.0), (4411, 0.3065501015557158), (4412, 0.0), (4413, 0.27397546206455553), (4414, 0.0), (4415, 0.0), (4416, 0.0), (4417, 0.3065501015557158), (4418, 0.4999999999999999), (4419, 0.33727417905835966), (4420, 0.0), (4421, 0.26761445187478167), (4422, 0.38688661130829566), (4423, 0.0), (4424, 0.0), (4425, 0.0), (4426, 0.0), (4427, 0.29524647854905417), (4428, 0.0), (4429, 0.0), (4430, 0.0), (4431, 0.33727417905835966), (4432, 0.2631406242128161), (4433, 0.0), (4434, 0.0), (4435, 0.33727417905835966), (4436, 0.24633715807101975), (4437, 0.3065501015557158), (4438, 0.0), (4439, 0.0), (4440, 0.21746441471040534), (4441, 0.0), (4442, 0.30565352039237503), (4443, 0.0), (4444, 0.20062465434998478), (4445, 0.0), (4446, 0.0), (4447, 0.0), (4448, 0.0), (4449, 0.0), (4450, 0.23213854921611637), (4451, 0.0), (4452, 0.2540429640450034), (4453, 0.25455704556706493), (4454, 0.0), (4455, 0.0), (4456, 0.27397546206455553), (4457, 0.0), (4458, 0.0), (4459, 0.2631406242128161), (4460, 0.0), (4461, 0.0), (4462, 0.1704609876628558), (4463, 0.1833854299679919), (4464, 0.0), (4465, 0.0), (4466, 0.0), (4467, 0.0), (4468, 0.0), (4469, 0.0), (4470, 0.0), (4471, 0.27397546206455553), (4472, 0.21682710860623888), (4473, 0.0), (4474, 0.0), (4475, 0.33727417905835966), (4476, 0.0), (4477, 0.22546091339709604), (4478, 0.0), (4479, 0.0), (4480, 0.0), (4481, 0.0), (4482, 0.2319355547474144), (4483, 0.0), (4484, 0.0), (4485, 0.3065501015557158), (4486, 0.0), (4487, 0.0), (4488, 0.0), (4489, 0.0), (4490, 0.4999999999999999), (4491, 0.0), (4492, 0.0), (4493, 0.0), (4494, 0.0), (4495, 0.4999999999999999), (4496, 0.0), (4497, 0.4999999999999999), (4498, 0.0), (4499, 0.0), (4500, 0.0), (4501, 0.0), (4502, 0.0), (4503, 0.0), (4504, 0.1855952263309688), (4505, 0.0), (4506, 0.0), (4507, 0.15063978027194916), (4508, 0.0), (4509, 0.0), (4510, 0.0), (4511, 0.0), (4512, 0.0), (4513, 0.0), (4514, 0.0), (4515, 0.7425959792769131), (4516, 0.0), (4517, 0.0), (4518, 0.0), (4519, 0.0), (4520, 0.0), (4521, 0.0), (4522, 0.0), (4523, 0.16898002652550936), (4524, 0.0), (4525, 0.0), (4526, 0.27397546206455553), (4527, 0.0), (4528, 0.0), (4529, 0.4999999999999999), (4530, 0.0), (4531, 0.4999999999999999), (4532, 0.0), (4533, 0.0), (4534, 0.28629174245469174), (4535, 0.0), (4536, 0.4999999999999999), (4537, 0.4999999999999999), (4538, 0.0), (4539, 0.0), (4540, 0.0), (4541, 0.0), (4542, 0.0), (4543, 0.0), (4544, 0.0), (4545, 0.30565352039237503), (4546, 0.0), (4547, 0.0), (4548, 0.0), (4549, 0.0), (4550, 0.4999999999999999), (4551, 0.25097411522279317), (4552, 0.0), (4553, 0.0), (4554, 0.0), (4555, 0.4999999999999999), (4556, 0.0), (4557, 0.0), (4558, 0.0), (4559, 0.0), (4560, 0.0), (4561, 0.0), (4562, 0.30565352039237503), (4563, 0.0), (4564, 0.0), (4565, 0.0), (4566, 0.0), (4567, 0.0), (4568, 0.21763049995725728), (4569, 0.2319355547474144), (4570, 0.4999999999999999), (4571, 0.0), (4572, 0.11348396500937713), (4573, 0.12896808082476632), (4574, 0.0), (4575, 0.0), (4576, 0.0), (4577, 0.0), (4578, 0.0), (4579, 0.4999999999999999), (4580, 0.0), (4581, 0.0), (4582, 0.0), (4583, 0.0), (4584, 0.0), (4585, 0.15168248673685558)]\n"
     ]
    }
   ],
   "source": [
    "similarity_score = list(enumerate(similarity[index_of_item]))\n",
    "print(similarity_score)"
   ]
  },
  {
   "cell_type": "code",
   "execution_count": 41,
   "id": "de8f592d-7a2b-4fb2-8b53-a5789a4b119d",
   "metadata": {},
   "outputs": [],
   "source": [
    "a = []\n",
    "for i in similarity_score:\n",
    "    if (i[1] >= 0.75):\n",
    "        a.append(i[0])"
   ]
  },
  {
   "cell_type": "code",
   "execution_count": 42,
   "id": "f41cb19b-77aa-4bad-9e92-3f6d0a5900bc",
   "metadata": {},
   "outputs": [
    {
     "data": {
      "text/plain": [
       "[1, 127, 144, 247, 3757, 3964, 4325]"
      ]
     },
     "execution_count": 42,
     "metadata": {},
     "output_type": "execute_result"
    }
   ],
   "source": [
    "a"
   ]
  },
  {
   "cell_type": "code",
   "execution_count": 43,
   "id": "7574011d-49f6-43af-b553-7050d08a3f4f",
   "metadata": {},
   "outputs": [],
   "source": [
    "df3 = pd.DataFrame({})\n",
    "for movie in a:\n",
    "    df3[movie] = df.iloc[movie][['Title','Year','Rating','Runtime','Genres','Language','IMDb Code','URL']]"
   ]
  },
  {
   "cell_type": "code",
   "execution_count": 44,
   "id": "d32e6517-920a-4c0b-af67-e751f6a27835",
   "metadata": {},
   "outputs": [
    {
     "data": {
      "text/html": [
       "<div>\n",
       "<style scoped>\n",
       "    .dataframe tbody tr th:only-of-type {\n",
       "        vertical-align: middle;\n",
       "    }\n",
       "\n",
       "    .dataframe tbody tr th {\n",
       "        vertical-align: top;\n",
       "    }\n",
       "\n",
       "    .dataframe thead th {\n",
       "        text-align: right;\n",
       "    }\n",
       "</style>\n",
       "<table border=\"1\" class=\"dataframe\">\n",
       "  <thead>\n",
       "    <tr style=\"text-align: right;\">\n",
       "      <th></th>\n",
       "      <th>Title</th>\n",
       "      <th>Year</th>\n",
       "      <th>Rating</th>\n",
       "      <th>Runtime</th>\n",
       "      <th>Genres</th>\n",
       "      <th>Language</th>\n",
       "      <th>IMDb Code</th>\n",
       "      <th>URL</th>\n",
       "    </tr>\n",
       "  </thead>\n",
       "  <tbody>\n",
       "    <tr>\n",
       "      <th>1</th>\n",
       "      <td>Honey Sweet</td>\n",
       "      <td>2023</td>\n",
       "      <td>6.4</td>\n",
       "      <td>118</td>\n",
       "      <td>Comedy</td>\n",
       "      <td>ko</td>\n",
       "      <td>tt28625660</td>\n",
       "      <td>https://yts.mx/movies/honey-sweet-2023</td>\n",
       "    </tr>\n",
       "    <tr>\n",
       "      <th>127</th>\n",
       "      <td>Enemies In-Law</td>\n",
       "      <td>2015</td>\n",
       "      <td>5.9</td>\n",
       "      <td>119</td>\n",
       "      <td>Action, Comedy</td>\n",
       "      <td>ko</td>\n",
       "      <td>tt5449088</td>\n",
       "      <td>https://yts.mx/movies/enemies-in-law-2015</td>\n",
       "    </tr>\n",
       "    <tr>\n",
       "      <th>144</th>\n",
       "      <td>4PM</td>\n",
       "      <td>2024</td>\n",
       "      <td>5.9</td>\n",
       "      <td>111</td>\n",
       "      <td>Comedy, Drama, Thriller</td>\n",
       "      <td>ko</td>\n",
       "      <td>tt25383302</td>\n",
       "      <td>https://yts.mx/movies/4pm-2024</td>\n",
       "    </tr>\n",
       "    <tr>\n",
       "      <th>247</th>\n",
       "      <td>About Family</td>\n",
       "      <td>2024</td>\n",
       "      <td>6.8</td>\n",
       "      <td>106</td>\n",
       "      <td>Comedy</td>\n",
       "      <td>ko</td>\n",
       "      <td>tt26224870</td>\n",
       "      <td>https://yts.mx/movies/about-family-2024</td>\n",
       "    </tr>\n",
       "    <tr>\n",
       "      <th>3757</th>\n",
       "      <td>New Normal</td>\n",
       "      <td>2022</td>\n",
       "      <td>6.2</td>\n",
       "      <td>112</td>\n",
       "      <td>Comedy, Horror, Thriller</td>\n",
       "      <td>ko</td>\n",
       "      <td>tt21983200</td>\n",
       "      <td>https://yts.mx/movies/new-normal-2022</td>\n",
       "    </tr>\n",
       "    <tr>\n",
       "      <th>3964</th>\n",
       "      <td>Pilot</td>\n",
       "      <td>2024</td>\n",
       "      <td>6.2</td>\n",
       "      <td>110</td>\n",
       "      <td>Comedy</td>\n",
       "      <td>ko</td>\n",
       "      <td>tt32175399</td>\n",
       "      <td>https://yts.mx/movies/pilot-2024</td>\n",
       "    </tr>\n",
       "    <tr>\n",
       "      <th>4325</th>\n",
       "      <td>Brave Citizen</td>\n",
       "      <td>2023</td>\n",
       "      <td>6.5</td>\n",
       "      <td>112</td>\n",
       "      <td>Action, Comedy, Drama</td>\n",
       "      <td>ko</td>\n",
       "      <td>tt22505214</td>\n",
       "      <td>https://yts.mx/movies/brave-citizen-2023</td>\n",
       "    </tr>\n",
       "  </tbody>\n",
       "</table>\n",
       "</div>"
      ],
      "text/plain": [
       "               Title  Year Rating Runtime                    Genres Language  \\\n",
       "1        Honey Sweet  2023    6.4     118                    Comedy       ko   \n",
       "127   Enemies In-Law  2015    5.9     119            Action, Comedy       ko   \n",
       "144              4PM  2024    5.9     111   Comedy, Drama, Thriller       ko   \n",
       "247     About Family  2024    6.8     106                    Comedy       ko   \n",
       "3757      New Normal  2022    6.2     112  Comedy, Horror, Thriller       ko   \n",
       "3964           Pilot  2024    6.2     110                    Comedy       ko   \n",
       "4325   Brave Citizen  2023    6.5     112     Action, Comedy, Drama       ko   \n",
       "\n",
       "       IMDb Code                                        URL  \n",
       "1     tt28625660     https://yts.mx/movies/honey-sweet-2023  \n",
       "127    tt5449088  https://yts.mx/movies/enemies-in-law-2015  \n",
       "144   tt25383302             https://yts.mx/movies/4pm-2024  \n",
       "247   tt26224870    https://yts.mx/movies/about-family-2024  \n",
       "3757  tt21983200      https://yts.mx/movies/new-normal-2022  \n",
       "3964  tt32175399           https://yts.mx/movies/pilot-2024  \n",
       "4325  tt22505214   https://yts.mx/movies/brave-citizen-2023  "
      ]
     },
     "execution_count": 44,
     "metadata": {},
     "output_type": "execute_result"
    }
   ],
   "source": [
    "df3.T"
   ]
  },
  {
   "cell_type": "code",
   "execution_count": null,
   "id": "a466fb90-4bfe-4473-a14e-a623a8a8f1e5",
   "metadata": {},
   "outputs": [],
   "source": []
  }
 ],
 "metadata": {
  "kernelspec": {
   "display_name": "Python 3 (ipykernel)",
   "language": "python",
   "name": "python3"
  },
  "language_info": {
   "codemirror_mode": {
    "name": "ipython",
    "version": 3
   },
   "file_extension": ".py",
   "mimetype": "text/x-python",
   "name": "python",
   "nbconvert_exporter": "python",
   "pygments_lexer": "ipython3",
   "version": "3.12.7"
  }
 },
 "nbformat": 4,
 "nbformat_minor": 5
}
